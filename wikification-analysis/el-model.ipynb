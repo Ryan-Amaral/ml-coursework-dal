{
 "cells": [
  {
   "cell_type": "markdown",
   "metadata": {},
   "source": [
    "# Entity Linking Model\n",
    "In this notebook we train a Learning to Rank model on previously generated Entity Linking data."
   ]
  },
  {
   "cell_type": "code",
   "execution_count": 1,
   "metadata": {
    "collapsed": true
   },
   "outputs": [],
   "source": [
    "%config IPCompleter.greedy=True\n",
    "import pandas as pd"
   ]
  },
  {
   "cell_type": "code",
   "execution_count": 2,
   "metadata": {},
   "outputs": [
    {
     "data": {
      "text/html": [
       "<div>\n",
       "<style scoped>\n",
       "    .dataframe tbody tr th:only-of-type {\n",
       "        vertical-align: middle;\n",
       "    }\n",
       "\n",
       "    .dataframe tbody tr th {\n",
       "        vertical-align: top;\n",
       "    }\n",
       "\n",
       "    .dataframe thead th {\n",
       "        text-align: right;\n",
       "    }\n",
       "</style>\n",
       "<table border=\"1\" class=\"dataframe\">\n",
       "  <thead>\n",
       "    <tr style=\"text-align: right;\">\n",
       "      <th></th>\n",
       "      <th>trueEntity</th>\n",
       "      <th>popScore</th>\n",
       "      <th>ctx1Score</th>\n",
       "      <th>ctx2Score</th>\n",
       "      <th>w2vScore</th>\n",
       "      <th>cohScore</th>\n",
       "      <th>mentionId</th>\n",
       "    </tr>\n",
       "  </thead>\n",
       "  <tbody>\n",
       "    <tr>\n",
       "      <th>0</th>\n",
       "      <td>1</td>\n",
       "      <td>0.986376</td>\n",
       "      <td>0.596652</td>\n",
       "      <td>0.909091</td>\n",
       "      <td>0.171256</td>\n",
       "      <td>0.002138</td>\n",
       "      <td>0</td>\n",
       "    </tr>\n",
       "    <tr>\n",
       "      <th>1</th>\n",
       "      <td>0</td>\n",
       "      <td>0.010899</td>\n",
       "      <td>0.383337</td>\n",
       "      <td>0.000000</td>\n",
       "      <td>0.445410</td>\n",
       "      <td>0.002924</td>\n",
       "      <td>0</td>\n",
       "    </tr>\n",
       "    <tr>\n",
       "      <th>2</th>\n",
       "      <td>1</td>\n",
       "      <td>0.992334</td>\n",
       "      <td>0.305474</td>\n",
       "      <td>0.363636</td>\n",
       "      <td>0.392859</td>\n",
       "      <td>0.009689</td>\n",
       "      <td>1</td>\n",
       "    </tr>\n",
       "    <tr>\n",
       "      <th>3</th>\n",
       "      <td>0</td>\n",
       "      <td>0.004791</td>\n",
       "      <td>0.137853</td>\n",
       "      <td>0.000000</td>\n",
       "      <td>0.260997</td>\n",
       "      <td>0.004032</td>\n",
       "      <td>1</td>\n",
       "    </tr>\n",
       "    <tr>\n",
       "      <th>4</th>\n",
       "      <td>0</td>\n",
       "      <td>0.001150</td>\n",
       "      <td>0.164354</td>\n",
       "      <td>0.000000</td>\n",
       "      <td>0.349205</td>\n",
       "      <td>0.000210</td>\n",
       "      <td>1</td>\n",
       "    </tr>\n",
       "  </tbody>\n",
       "</table>\n",
       "</div>"
      ],
      "text/plain": [
       "   trueEntity  popScore  ctx1Score  ctx2Score  w2vScore  cohScore  mentionId\n",
       "0           1  0.986376   0.596652   0.909091  0.171256  0.002138          0\n",
       "1           0  0.010899   0.383337   0.000000  0.445410  0.002924          0\n",
       "2           1  0.992334   0.305474   0.363636  0.392859  0.009689          1\n",
       "3           0  0.004791   0.137853   0.000000  0.260997  0.004032          1\n",
       "4           0  0.001150   0.164354   0.000000  0.349205  0.000210          1"
      ]
     },
     "execution_count": 2,
     "metadata": {},
     "output_type": "execute_result"
    }
   ],
   "source": [
    "# data generated from https://github.com/Ryan-Amaral/wikisim/blob/master/wikification/ml-model.ipynb\n",
    "df = pd.read_csv('el-5000.txt', header=None)\n",
    "df.columns = ['id', 'trueEntity', 'popScore','ctx1Score',\n",
    "              'ctx2Score','w2vScore','cohScore','mentionId']\n",
    "df = df.drop(columns=['id']) # don't need, just internal id for wiki pagews\n",
    "df.head()"
   ]
  },
  {
   "cell_type": "markdown",
   "metadata": {},
   "source": [
    "##### Each record is a candidate for a mention.\n",
    "trueEntity: Whether the candidate (record) is the actual entity wiki page for the mention.\n",
    "\n",
    "popScore: Score obtained from popularity.\n",
    "\n",
    "ctx1Score: Score obtained from context1.\n",
    "\n",
    "ctx2Score: Score obtained from context2.\n",
    "\n",
    "w2vScore: Score obtained from word2vec.\n",
    "\n",
    "cohScore: Score obtained from coherence.\n",
    "\n",
    "mentionId: The mention that this record is referring to."
   ]
  },
  {
   "cell_type": "code",
   "execution_count": 3,
   "metadata": {},
   "outputs": [
    {
     "data": {
      "text/html": [
       "<div>\n",
       "<style scoped>\n",
       "    .dataframe tbody tr th:only-of-type {\n",
       "        vertical-align: middle;\n",
       "    }\n",
       "\n",
       "    .dataframe tbody tr th {\n",
       "        vertical-align: top;\n",
       "    }\n",
       "\n",
       "    .dataframe thead th {\n",
       "        text-align: right;\n",
       "    }\n",
       "</style>\n",
       "<table border=\"1\" class=\"dataframe\">\n",
       "  <thead>\n",
       "    <tr style=\"text-align: right;\">\n",
       "      <th></th>\n",
       "      <th>trueEntity</th>\n",
       "      <th>popScore</th>\n",
       "      <th>ctx1Score</th>\n",
       "      <th>ctx2Score</th>\n",
       "      <th>w2vScore</th>\n",
       "      <th>cohScore</th>\n",
       "      <th>mentionId</th>\n",
       "    </tr>\n",
       "  </thead>\n",
       "  <tbody>\n",
       "    <tr>\n",
       "      <th>count</th>\n",
       "      <td>226797.000000</td>\n",
       "      <td>226797.000000</td>\n",
       "      <td>226797.000000</td>\n",
       "      <td>226797.000000</td>\n",
       "      <td>226797.000000</td>\n",
       "      <td>226797.000000</td>\n",
       "      <td>226797.000000</td>\n",
       "    </tr>\n",
       "    <tr>\n",
       "      <th>mean</th>\n",
       "      <td>0.111620</td>\n",
       "      <td>0.109230</td>\n",
       "      <td>0.095271</td>\n",
       "      <td>0.086193</td>\n",
       "      <td>0.197487</td>\n",
       "      <td>0.088473</td>\n",
       "      <td>12874.733114</td>\n",
       "    </tr>\n",
       "    <tr>\n",
       "      <th>std</th>\n",
       "      <td>0.314899</td>\n",
       "      <td>0.269932</td>\n",
       "      <td>0.177396</td>\n",
       "      <td>0.244223</td>\n",
       "      <td>0.118741</td>\n",
       "      <td>0.219805</td>\n",
       "      <td>7455.759382</td>\n",
       "    </tr>\n",
       "    <tr>\n",
       "      <th>min</th>\n",
       "      <td>0.000000</td>\n",
       "      <td>0.000016</td>\n",
       "      <td>0.000000</td>\n",
       "      <td>0.000000</td>\n",
       "      <td>-0.039516</td>\n",
       "      <td>0.000000</td>\n",
       "      <td>0.000000</td>\n",
       "    </tr>\n",
       "    <tr>\n",
       "      <th>25%</th>\n",
       "      <td>0.000000</td>\n",
       "      <td>0.000892</td>\n",
       "      <td>0.000000</td>\n",
       "      <td>0.000000</td>\n",
       "      <td>0.142257</td>\n",
       "      <td>0.000101</td>\n",
       "      <td>6342.000000</td>\n",
       "    </tr>\n",
       "    <tr>\n",
       "      <th>50%</th>\n",
       "      <td>0.000000</td>\n",
       "      <td>0.003699</td>\n",
       "      <td>0.065787</td>\n",
       "      <td>0.000000</td>\n",
       "      <td>0.215558</td>\n",
       "      <td>0.002860</td>\n",
       "      <td>13103.000000</td>\n",
       "    </tr>\n",
       "    <tr>\n",
       "      <th>75%</th>\n",
       "      <td>0.000000</td>\n",
       "      <td>0.025126</td>\n",
       "      <td>0.105248</td>\n",
       "      <td>0.000000</td>\n",
       "      <td>0.276480</td>\n",
       "      <td>0.036394</td>\n",
       "      <td>19357.000000</td>\n",
       "    </tr>\n",
       "    <tr>\n",
       "      <th>max</th>\n",
       "      <td>1.000000</td>\n",
       "      <td>0.999946</td>\n",
       "      <td>0.995435</td>\n",
       "      <td>0.909091</td>\n",
       "      <td>0.704920</td>\n",
       "      <td>1.000000</td>\n",
       "      <td>25607.000000</td>\n",
       "    </tr>\n",
       "  </tbody>\n",
       "</table>\n",
       "</div>"
      ],
      "text/plain": [
       "          trueEntity       popScore      ctx1Score      ctx2Score  \\\n",
       "count  226797.000000  226797.000000  226797.000000  226797.000000   \n",
       "mean        0.111620       0.109230       0.095271       0.086193   \n",
       "std         0.314899       0.269932       0.177396       0.244223   \n",
       "min         0.000000       0.000016       0.000000       0.000000   \n",
       "25%         0.000000       0.000892       0.000000       0.000000   \n",
       "50%         0.000000       0.003699       0.065787       0.000000   \n",
       "75%         0.000000       0.025126       0.105248       0.000000   \n",
       "max         1.000000       0.999946       0.995435       0.909091   \n",
       "\n",
       "            w2vScore       cohScore      mentionId  \n",
       "count  226797.000000  226797.000000  226797.000000  \n",
       "mean        0.197487       0.088473   12874.733114  \n",
       "std         0.118741       0.219805    7455.759382  \n",
       "min        -0.039516       0.000000       0.000000  \n",
       "25%         0.142257       0.000101    6342.000000  \n",
       "50%         0.215558       0.002860   13103.000000  \n",
       "75%         0.276480       0.036394   19357.000000  \n",
       "max         0.704920       1.000000   25607.000000  "
      ]
     },
     "execution_count": 3,
     "metadata": {},
     "output_type": "execute_result"
    }
   ],
   "source": [
    "df.describe() # poorly scaled, I didn't know what I was doing when I made the data."
   ]
  },
  {
   "cell_type": "code",
   "execution_count": 7,
   "metadata": {},
   "outputs": [
    {
     "name": "stdout",
     "output_type": "stream",
     "text": [
      "(226797, 5) (226797,) (226797,)\n"
     ]
    }
   ],
   "source": [
    "# 60-20-20 train test validate split\n",
    "rows = len(df.index)\n",
    "y = df.loc[:,'trueEntity'].values\n",
    "X = df.drop(['trueEntity', 'mentionId'],1).loc[:,:].values\n",
    "i = df.loc[:,'mentionId'].values\n",
    "print(X.shape,y.shape, i.shape)\n",
    "from sklearn.model_selection import train_test_split\n",
    "XTrain, XBlob, yTrain, yBlob, iTrain, iBlob = train_test_split( X, y, i, test_size=0.4, shuffle=False)\n",
    "XVali, XTest, yVali, yTest, iVali, iTest = train_test_split( XBlob, yBlob, iBlob, test_size=0.5, shuffle=False)"
   ]
  },
  {
   "cell_type": "code",
   "execution_count": 8,
   "metadata": {},
   "outputs": [
    {
     "name": "stdout",
     "output_type": "stream",
     "text": [
      "[[9.86376022e-01 5.96651917e-01 9.09090909e-01 1.71256333e-01\n",
      "  2.13778277e-03]\n",
      " [1.08991826e-02 3.83337305e-01 0.00000000e+00 4.45409828e-01\n",
      "  2.92353045e-03]\n",
      " [9.92334228e-01 3.05474371e-01 3.63636364e-01 3.92858793e-01\n",
      "  9.68923206e-03]\n",
      " ...\n",
      " [1.15207373e-03 4.78825274e-01 0.00000000e+00 0.00000000e+00\n",
      "  0.00000000e+00]\n",
      " [1.15207373e-03 0.00000000e+00 0.00000000e+00 1.49611700e-01\n",
      "  2.50062866e-05]\n",
      " [9.98668442e-01 6.76194596e-01 9.09090909e-01 2.97158625e-01\n",
      "  7.57711168e-02]]\n",
      "[1 0 1 ... 0 0 1]\n",
      "[    0     0     1 ... 15588 15588 15589]\n"
     ]
    }
   ],
   "source": [
    "print(XTrain)\n",
    "print(yTrain)\n",
    "print(iTrain)"
   ]
  },
  {
   "cell_type": "code",
   "execution_count": 9,
   "metadata": {
    "scrolled": true
   },
   "outputs": [
    {
     "name": "stdout",
     "output_type": "stream",
     "text": [
      " Iter  Train score    Remaining                           Monitor Output \n",
      "    1       0.8993       43.45m      C:      0.8990 B:      0.8990 S:  0\n",
      "    2       0.9126       44.49m      C:      0.9134 B:      0.9134 S:  0\n",
      "    3       0.9246       42.93m      C:      0.9259 B:      0.9259 S:  0\n",
      "    4       0.9281       42.62m      C:      0.9303 B:      0.9303 S:  0\n",
      "    5       0.9358       41.38m      C:      0.9389 B:      0.9389 S:  0\n",
      "    6       0.9366       40.58m      C:      0.9391 B:      0.9391 S:  0\n",
      "    7       0.9367       40.12m      C:      0.9392 B:      0.9392 S:  0\n",
      "    8       0.9383       39.94m      C:      0.9414 B:      0.9414 S:  0\n",
      "    9       0.9385       39.79m      C:      0.9412 B:      0.9414 S:  1\n",
      "   10       0.9396       39.50m      C:      0.9436 B:      0.9436 S:  0\n",
      "   15       0.9439       38.21m      C:      0.9477 B:      0.9477 S:  0\n",
      "   20       0.9476       37.00m      C:      0.9518 B:      0.9518 S:  0\n",
      "   25       0.9515       36.27m      C:      0.9555 B:      0.9555 S:  0\n",
      "   30       0.9537       36.71m      C:      0.9575 B:      0.9575 S:  0\n",
      "   35       0.9552       36.02m      C:      0.9589 B:      0.9589 S:  0\n",
      "   40       0.9562       35.10m      C:      0.9600 B:      0.9600 S:  0\n",
      "   45       0.9569       34.42m      C:      0.9608 B:      0.9608 S:  0\n",
      "   50       0.9574       33.67m      C:      0.9612 B:      0.9612 S:  0\n",
      "   60       0.9588       32.13m      C:      0.9616 B:      0.9617 S:  3\n",
      "   70       0.9595       30.53m      C:      0.9618 B:      0.9618 S:  0\n",
      "   80       0.9603       29.43m      C:      0.9619 B:      0.9619 S:  0\n",
      "   90       0.9608       28.26m      C:      0.9623 B:      0.9623 S:  3\n",
      "  100       0.9613       26.84m      C:      0.9619 B:      0.9623 S: 13\n",
      "  120       0.9619       24.31m      C:      0.9620 B:      0.9623 S: 33\n",
      "  140       0.9624       22.24m      C:      0.9624 B:      0.9626 S: 10\n",
      "  160       0.9631       19.84m      C:      0.9630 B:      0.9630 S:  4\n",
      "  180       0.9634       16.62m      C:      0.9636 B:      0.9636 S:  7\n",
      "  200       0.9637       13.55m      C:      0.9633 B:      0.9636 S:  3\n",
      "  220       0.9640       10.64m      C:      0.9633 B:      0.9636 S: 23\n",
      "  240       0.9643        7.85m      C:      0.9636 B:      0.9637 S: 10\n",
      "  260       0.9646        5.16m      C:      0.9634 B:      0.9637 S: 30\n",
      "  280       0.9648        2.55m      C:      0.9635 B:      0.9637 S: 50\n",
      "Early termination at iteration  299\n"
     ]
    },
    {
     "data": {
      "text/plain": [
       "<pyltr.models.lambdamart.LambdaMART at 0x7f7fc6c4a320>"
      ]
     },
     "execution_count": 9,
     "metadata": {},
     "output_type": "execute_result"
    }
   ],
   "source": [
    "import pyltr\n",
    "\n",
    "monitor = pyltr.models.monitors.ValidationMonitor(\n",
    "    XVali, yVali, iVali, metric=pyltr.metrics.NDCG(k=10), stop_after=250)\n",
    "lmart = pyltr.models.LambdaMART(n_estimators=300, learning_rate=0.1, verbose = 1)\n",
    "lmart.fit(XTrain, yTrain, iTrain, monitor=monitor)"
   ]
  },
  {
   "cell_type": "code",
   "execution_count": 10,
   "metadata": {},
   "outputs": [
    {
     "name": "stdout",
     "output_type": "stream",
     "text": [
      "(226797, 4) (226797,) (226797,)\n"
     ]
    }
   ],
   "source": [
    "# 60-20-20 train test validate split\n",
    "rows = len(df.index)\n",
    "y = df.loc[:,'trueEntity'].values\n",
    "X = df.drop(['trueEntity', 'mentionId','w2vScore'],1).loc[:,:].values\n",
    "i = df.loc[:,'mentionId'].values\n",
    "print(X.shape,y.shape, i.shape)\n",
    "from sklearn.model_selection import train_test_split\n",
    "XTrain, XBlob, yTrain, yBlob, iTrain, iBlob = train_test_split( X, y, i, test_size=0.4, shuffle=False)\n",
    "XVali, XTest, yVali, yTest, iVali, iTest = train_test_split( XBlob, yBlob, iBlob, test_size=0.5, shuffle=False)"
   ]
  },
  {
   "cell_type": "code",
   "execution_count": 12,
   "metadata": {
    "scrolled": true
   },
   "outputs": [
    {
     "name": "stdout",
     "output_type": "stream",
     "text": [
      " Iter  Train score    Remaining                           Monitor Output \n",
      "    1       0.8993       49.50m      C:      0.8990 B:      0.8990 S:  0\n",
      "    2       0.9126       49.91m      C:      0.9134 B:      0.9134 S:  0\n",
      "    3       0.9246       46.07m      C:      0.9259 B:      0.9259 S:  0\n",
      "    4       0.9281       44.13m      C:      0.9303 B:      0.9303 S:  0\n",
      "    5       0.9358       42.62m      C:      0.9389 B:      0.9389 S:  0\n",
      "    6       0.9366       41.76m      C:      0.9391 B:      0.9391 S:  0\n",
      "    7       0.9367       40.98m      C:      0.9392 B:      0.9392 S:  0\n",
      "    8       0.9383       40.33m      C:      0.9414 B:      0.9414 S:  0\n",
      "    9       0.9385       39.82m      C:      0.9412 B:      0.9414 S:  1\n",
      "   10       0.9396       39.58m      C:      0.9436 B:      0.9436 S:  0\n",
      "   15       0.9439       38.26m      C:      0.9477 B:      0.9477 S:  0\n",
      "   20       0.9477       37.68m      C:      0.9518 B:      0.9518 S:  0\n",
      "   25       0.9515       36.69m      C:      0.9556 B:      0.9556 S:  0\n",
      "   30       0.9539       39.88m      C:      0.9577 B:      0.9577 S:  0\n",
      "   35       0.9555       39.00m      C:      0.9592 B:      0.9592 S:  0\n",
      "   40       0.9562       38.92m      C:      0.9602 B:      0.9602 S:  0\n",
      "   45       0.9568       38.52m      C:      0.9605 B:      0.9607 S:  3\n",
      "   50       0.9572       36.96m      C:      0.9611 B:      0.9611 S:  0\n",
      "   60       0.9587       34.85m      C:      0.9614 B:      0.9614 S:  0\n",
      "   70       0.9598       32.94m      C:      0.9618 B:      0.9619 S:  2\n",
      "   80       0.9604       31.01m      C:      0.9618 B:      0.9619 S: 12\n",
      "   90       0.9607       28.98m      C:      0.9621 B:      0.9621 S:  3\n",
      "  100       0.9610       27.04m      C:      0.9624 B:      0.9626 S:  1\n",
      "  120       0.9618       23.55m      C:      0.9622 B:      0.9626 S: 21\n",
      "  140       0.9621       20.43m      C:      0.9621 B:      0.9626 S: 41\n",
      "  160       0.9624       17.55m      C:      0.9622 B:      0.9626 S: 61\n",
      "  180       0.9629       14.82m      C:      0.9625 B:      0.9627 S: 10\n",
      "  200       0.9634       12.22m      C:      0.9628 B:      0.9628 S:  1\n",
      "  220       0.9638        9.69m      C:      0.9627 B:      0.9629 S: 14\n",
      "  240       0.9642        7.21m      C:      0.9631 B:      0.9632 S:  7\n",
      "  260       0.9644        4.77m      C:      0.9629 B:      0.9632 S: 12\n",
      "  280       0.9646        2.37m      C:      0.9631 B:      0.9632 S: 32\n",
      "Early termination at iteration  299\n"
     ]
    },
    {
     "data": {
      "text/plain": [
       "<pyltr.models.lambdamart.LambdaMART at 0x7f7fc6c4a470>"
      ]
     },
     "execution_count": 12,
     "metadata": {},
     "output_type": "execute_result"
    }
   ],
   "source": [
    "monitor = pyltr.models.monitors.ValidationMonitor(\n",
    "    XVali, yVali, iVali, metric=pyltr.metrics.NDCG(k=10), stop_after=250)\n",
    "lmartNoW2v = pyltr.models.LambdaMART(n_estimators=300, learning_rate=0.1, verbose = 1)\n",
    "lmartNoW2v.fit(XTrain, yTrain, iTrain, monitor=monitor)"
   ]
  },
  {
   "cell_type": "code",
   "execution_count": 13,
   "metadata": {
    "collapsed": true
   },
   "outputs": [],
   "source": [
    "# save the models in case crash\n",
    "import pickle\n",
    "with open('el-lmart.pkl', 'wb') as f:\n",
    "    pickle.dump(lmart, f)\n",
    "with open('el-lmart-NoW2v.pkl', 'wb') as f:\n",
    "    pickle.dump(lmartNoW2v, f)"
   ]
  },
  {
   "cell_type": "markdown",
   "metadata": {},
   "source": [
    "We suspected word2vec was not working as a good metric for us, so we tested if the model works better without it."
   ]
  },
  {
   "cell_type": "code",
   "execution_count": 18,
   "metadata": {},
   "outputs": [
    {
     "name": "stdout",
     "output_type": "stream",
     "text": [
      "With Word2Vec 0.9435523801489148\n",
      "Without Word2Vec 0.960043193866277\n"
     ]
    }
   ],
   "source": [
    "metric = pyltr.metrics.NDCG(k=10)\n",
    "pred = lmart.predict(XTest)\n",
    "print('With Word2Vec', metric.calc_mean(iTest,yTest,pred))\n",
    "pred = lmartNoW2v.predict(XTest)\n",
    "print('Without Word2Vec', metric.calc_mean(iTest,yTest,pred))"
   ]
  },
  {
   "cell_type": "code",
   "execution_count": null,
   "metadata": {
    "collapsed": true
   },
   "outputs": [],
   "source": []
  }
 ],
 "metadata": {
  "kernelspec": {
   "display_name": "Python [conda env:pods]",
   "language": "python",
   "name": "conda-env-pods-py"
  },
  "language_info": {
   "codemirror_mode": {
    "name": "ipython",
    "version": 2
   },
   "file_extension": ".py",
   "mimetype": "text/x-python",
   "name": "python",
   "nbconvert_exporter": "python",
   "pygments_lexer": "ipython2",
   "version": "2.7.15"
  }
 },
 "nbformat": 4,
 "nbformat_minor": 2
}
