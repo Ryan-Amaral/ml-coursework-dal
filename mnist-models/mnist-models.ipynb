{
 "cells": [
  {
   "cell_type": "markdown",
   "metadata": {},
   "source": [
    "# MNIST Models\n",
    "Trying out some models on MNIST. There is a basic MLP, CNN, and variations of VGG16."
   ]
  },
  {
   "cell_type": "code",
   "execution_count": 1,
   "metadata": {},
   "outputs": [
    {
     "ename": "RuntimeError",
     "evalue": "module compiled against API version 0xc but this version of numpy is 0xb",
     "output_type": "error",
     "traceback": [
      "\u001b[0;31m---------------------------------------------------------------------------\u001b[0m",
      "\u001b[0;31mRuntimeError\u001b[0m                              Traceback (most recent call last)",
      "\u001b[0;31mRuntimeError\u001b[0m: module compiled against API version 0xc but this version of numpy is 0xb"
     ]
    },
    {
     "ename": "RuntimeError",
     "evalue": "module compiled against API version 0xc but this version of numpy is 0xb",
     "output_type": "error",
     "traceback": [
      "\u001b[0;31m---------------------------------------------------------------------------\u001b[0m",
      "\u001b[0;31mRuntimeError\u001b[0m                              Traceback (most recent call last)",
      "\u001b[0;31mRuntimeError\u001b[0m: module compiled against API version 0xc but this version of numpy is 0xb"
     ]
    },
    {
     "name": "stderr",
     "output_type": "stream",
     "text": [
      "Using TensorFlow backend.\n"
     ]
    },
    {
     "name": "stdout",
     "output_type": "stream",
     "text": [
      "(60000, 784)\n",
      "(60000, 10)\n",
      "(10000, 784)\n",
      "(10000, 10)\n"
     ]
    }
   ],
   "source": [
    "# get mnist data\n",
    "import tensorflow as tf\n",
    "import numpy as np\n",
    "from keras import models, layers, optimizers, utils, datasets\n",
    "\n",
    "mnist = datasets.mnist\n",
    "(x_train, y_train),(x_test, y_test) = mnist.load_data()\n",
    "x_train = x_train.astype('float32')\n",
    "x_train = x_train.reshape(60000, 784)/255\n",
    "x_test = x_test.astype('float32')\n",
    "x_test = x_test.reshape(10000, 784)/255\n",
    "y_train = utils.to_categorical(y_train, 10)\n",
    "y_test = utils.to_categorical(y_test, 10)\n",
    "print(x_train.shape)\n",
    "print(y_train.shape)\n",
    "print(x_test.shape)\n",
    "print(y_test.shape)"
   ]
  },
  {
   "cell_type": "code",
   "execution_count": 2,
   "metadata": {
    "collapsed": true
   },
   "outputs": [],
   "source": [
    "# set up experiment for MLP\n",
    "inputs = layers.Input(shape=(784,))\n",
    "x = layers.Dense(500, activation='relu')(inputs)\n",
    "x = layers.Dropout(0.1)(x)\n",
    "outputs = layers.Dense(10, activation='softmax')(x)\n",
    "\n",
    "model = models.Model(inputs=inputs, outputs=outputs)\n",
    "\n",
    "model.compile(loss='categorical_crossentropy',\n",
    "              optimizer='Nadam',\n",
    "              metrics=['accuracy'])"
   ]
  },
  {
   "cell_type": "code",
   "execution_count": 3,
   "metadata": {
    "scrolled": true
   },
   "outputs": [
    {
     "name": "stdout",
     "output_type": "stream",
     "text": [
      "Train on 1024 samples, validate on 1024 samples\n",
      "Epoch 1/10\n",
      "1024/1024 [==============================] - 1s 758us/step - loss: 1.3516 - acc: 0.6123 - val_loss: 0.7858 - val_acc: 0.7754\n",
      "Epoch 2/10\n",
      "1024/1024 [==============================] - 0s 104us/step - loss: 0.5244 - acc: 0.8594 - val_loss: 0.5579 - val_acc: 0.8496\n",
      "Epoch 3/10\n",
      "1024/1024 [==============================] - 0s 104us/step - loss: 0.3399 - acc: 0.9131 - val_loss: 0.4480 - val_acc: 0.8643\n",
      "Epoch 4/10\n",
      "1024/1024 [==============================] - 0s 103us/step - loss: 0.2346 - acc: 0.9414 - val_loss: 0.4129 - val_acc: 0.8828\n",
      "Epoch 5/10\n",
      "1024/1024 [==============================] - 0s 104us/step - loss: 0.1794 - acc: 0.9541 - val_loss: 0.4004 - val_acc: 0.8906\n",
      "Epoch 6/10\n",
      "1024/1024 [==============================] - 0s 103us/step - loss: 0.1266 - acc: 0.9795 - val_loss: 0.3990 - val_acc: 0.8818\n",
      "Epoch 7/10\n",
      "1024/1024 [==============================] - 0s 100us/step - loss: 0.0946 - acc: 0.9863 - val_loss: 0.3845 - val_acc: 0.8818\n",
      "Epoch 8/10\n",
      "1024/1024 [==============================] - 0s 106us/step - loss: 0.0810 - acc: 0.9902 - val_loss: 0.4438 - val_acc: 0.8721\n",
      "Epoch 9/10\n",
      "1024/1024 [==============================] - 0s 107us/step - loss: 0.0604 - acc: 0.9980 - val_loss: 0.4154 - val_acc: 0.8877\n",
      "Epoch 10/10\n",
      "1024/1024 [==============================] - 0s 103us/step - loss: 0.0420 - acc: 0.9980 - val_loss: 0.3994 - val_acc: 0.8926\n",
      "10000/10000 [==============================] - 0s 38us/step\n",
      "('Test Loss:', 0.37174901980161668, 'Test_accuracy:', 0.89219999999999999)\n"
     ]
    }
   ],
   "source": [
    "# run experiment for MLP\n",
    "history = model.fit(x_train[:1024], y_train[:1024], batch_size=128, \n",
    "            epochs=10, \n",
    "            validation_data=(x_train[1024:2048],y_train[1024:2048]))\n",
    "score = model.evaluate(x_test, y_test)\n",
    "print('Test Loss:', score[0], 'Test_accuracy:', score[1])"
   ]
  },
  {
   "cell_type": "code",
   "execution_count": 5,
   "metadata": {},
   "outputs": [
    {
     "data": {
      "image/png": "[encoded data removed]",
      "text/plain": [
       "<matplotlib.figure.Figure at 0x7fe77475fd10>"
      ]
     },
     "metadata": {
      "needs_background": "light"
     },
     "output_type": "display_data"
    }
   ],
   "source": [
    "# plot result for MLP\n",
    "import matplotlib.pyplot as plt\n",
    "plt.plot(history.history['acc'])\n",
    "plt.plot(history.history['val_acc'])\n",
    "plt.legend(['Training Accuracy', 'Validation Accuracy'])\n",
    "plt.title('Performance of our MLP model on MNIST')\n",
    "plt.xlabel('Epoch')\n",
    "plt.xlabel('Accuracy')\n",
    "plt.ylim((0,1))\n",
    "plt.show()"
   ]
  },
  {
   "cell_type": "code",
   "execution_count": 6,
   "metadata": {},
   "outputs": [
    {
     "name": "stdout",
     "output_type": "stream",
     "text": [
      "(60000, 28, 28, 1)\n",
      "(60000, 10)\n",
      "(10000, 28, 28, 1)\n",
      "(10000, 10)\n"
     ]
    }
   ],
   "source": [
    "# reload data for CNN\n",
    "(x_train, y_train),(x_test, y_test) = mnist.load_data()\n",
    "x_train = x_train.astype('float32')\n",
    "x_train = x_train.reshape(60000, 28, 28, 1)/255\n",
    "x_test = x_test.astype('float32')\n",
    "x_test = x_test.reshape(10000, 28, 28, 1)/255\n",
    "y_train = utils.to_categorical(y_train, 10)\n",
    "y_test = utils.to_categorical(y_test, 10)\n",
    "print(x_train.shape)\n",
    "print(y_train.shape)\n",
    "print(x_test.shape)\n",
    "print(y_test.shape)\n",
    "\n",
    "# set up experiment for CNN\n",
    "inputs = layers.Input(shape=(28, 28, 1))\n",
    "x = layers.Conv2D(32, kernel_size=(3, 3), activation='relu')(inputs)\n",
    "x = layers.Conv2D(64, (3, 3), activation='relu')(x)\n",
    "x = layers.MaxPooling2D(pool_size=(2, 2))(x)\n",
    "x = layers.Dropout(0.25)(x)\n",
    "x = layers.Flatten()(x)\n",
    "x = layers.Dense(128, activation='relu')(x)\n",
    "x = layers.Dropout(0.5)(x)\n",
    "outputs = layers.Dense(10, activation='softmax')(x)\n",
    "\n",
    "model = models.Model(inputs=inputs, outputs=outputs)\n",
    "\n",
    "model.compile(loss='categorical_crossentropy',\n",
    "              optimizer=optimizers.Adadelta(),\n",
    "              metrics=['accuracy'])"
   ]
  },
  {
   "cell_type": "code",
   "execution_count": 7,
   "metadata": {
    "scrolled": false
   },
   "outputs": [
    {
     "name": "stdout",
     "output_type": "stream",
     "text": [
      "Train on 1024 samples, validate on 1024 samples\n",
      "Epoch 1/20\n",
      "1024/1024 [==============================] - 2s 2ms/step - loss: 1.9736 - acc: 0.3086 - val_loss: 1.5311 - val_acc: 0.5869\n",
      "Epoch 2/20\n",
      "1024/1024 [==============================] - 1s 1ms/step - loss: 1.3569 - acc: 0.5586 - val_loss: 0.7714 - val_acc: 0.7734\n",
      "Epoch 3/20\n",
      "1024/1024 [==============================] - 1s 1ms/step - loss: 0.7659 - acc: 0.7549 - val_loss: 0.6071 - val_acc: 0.7891\n",
      "Epoch 4/20\n",
      "1024/1024 [==============================] - 1s 1ms/step - loss: 0.5774 - acc: 0.8301 - val_loss: 0.4170 - val_acc: 0.8799\n",
      "Epoch 5/20\n",
      "1024/1024 [==============================] - 1s 1ms/step - loss: 0.4580 - acc: 0.8428 - val_loss: 0.3192 - val_acc: 0.9121\n",
      "Epoch 6/20\n",
      "1024/1024 [==============================] - 1s 1ms/step - loss: 0.3541 - acc: 0.8955 - val_loss: 0.3836 - val_acc: 0.8838\n",
      "Epoch 7/20\n",
      "1024/1024 [==============================] - 1s 1ms/step - loss: 0.3097 - acc: 0.9004 - val_loss: 0.2827 - val_acc: 0.9180\n",
      "Epoch 8/20\n",
      "1024/1024 [==============================] - 1s 1ms/step - loss: 0.2853 - acc: 0.9062 - val_loss: 0.2853 - val_acc: 0.9209\n",
      "Epoch 9/20\n",
      "1024/1024 [==============================] - 1s 1ms/step - loss: 0.2299 - acc: 0.9287 - val_loss: 0.2728 - val_acc: 0.9189\n",
      "Epoch 10/20\n",
      "1024/1024 [==============================] - 1s 1ms/step - loss: 0.1662 - acc: 0.9502 - val_loss: 0.2944 - val_acc: 0.9121\n",
      "Epoch 11/20\n",
      "1024/1024 [==============================] - 1s 1ms/step - loss: 0.1545 - acc: 0.9512 - val_loss: 0.2592 - val_acc: 0.9238\n",
      "Epoch 12/20\n",
      "1024/1024 [==============================] - 1s 1ms/step - loss: 0.1370 - acc: 0.9619 - val_loss: 0.2524 - val_acc: 0.9258\n",
      "Epoch 13/20\n",
      "1024/1024 [==============================] - 1s 1ms/step - loss: 0.1299 - acc: 0.9609 - val_loss: 0.2495 - val_acc: 0.9316\n",
      "Epoch 14/20\n",
      "1024/1024 [==============================] - 1s 1ms/step - loss: 0.1114 - acc: 0.9570 - val_loss: 0.2414 - val_acc: 0.9307\n",
      "Epoch 15/20\n",
      "1024/1024 [==============================] - 1s 1ms/step - loss: 0.0973 - acc: 0.9688 - val_loss: 0.2438 - val_acc: 0.9355\n",
      "Epoch 16/20\n",
      "1024/1024 [==============================] - 1s 1ms/step - loss: 0.0869 - acc: 0.9736 - val_loss: 0.2396 - val_acc: 0.9277\n",
      "Epoch 17/20\n",
      "1024/1024 [==============================] - 1s 1ms/step - loss: 0.0732 - acc: 0.9756 - val_loss: 0.2393 - val_acc: 0.9258\n",
      "Epoch 18/20\n",
      "1024/1024 [==============================] - 1s 1ms/step - loss: 0.0750 - acc: 0.9775 - val_loss: 0.2299 - val_acc: 0.9355\n",
      "Epoch 19/20\n",
      "1024/1024 [==============================] - 1s 1ms/step - loss: 0.0786 - acc: 0.9717 - val_loss: 0.2358 - val_acc: 0.9277\n",
      "Epoch 20/20\n",
      "1024/1024 [==============================] - 1s 1ms/step - loss: 0.0573 - acc: 0.9863 - val_loss: 0.2552 - val_acc: 0.9258\n",
      "10000/10000 [==============================] - 3s 304us/step\n",
      "('Test Loss:', 0.2155170136237517, 'Test_accuracy:', 0.93799999999999994)\n"
     ]
    }
   ],
   "source": [
    "# run experiment for CNN\n",
    "history = model.fit(x_train[:1024], y_train[:1024], batch_size=128, \n",
    "            epochs=20, \n",
    "            validation_data=(x_train[1024:2048],y_train[1024:2048]))\n",
    "score = model.evaluate(x_test, y_test)\n",
    "print('Test Loss:', score[0], 'Test_accuracy:', score[1])"
   ]
  },
  {
   "cell_type": "code",
   "execution_count": 8,
   "metadata": {},
   "outputs": [
    {
     "data": {
      "image/png": "[encoded data removed]",
      "text/plain": [
       "<matplotlib.figure.Figure at 0x7fe7746c7790>"
      ]
     },
     "metadata": {
      "needs_background": "light"
     },
     "output_type": "display_data"
    }
   ],
   "source": [
    "# plot result for CNN\n",
    "import matplotlib.pyplot as plt\n",
    "plt.plot(history.history['acc'])\n",
    "plt.plot(history.history['val_acc'])\n",
    "plt.legend(['Training Accuracy', 'Validation Accuracy'])\n",
    "plt.title('Performance of our CNN model on MNIST')\n",
    "plt.xlabel('Epoch')\n",
    "plt.xlabel('Accuracy')\n",
    "plt.ylim((0,1))\n",
    "plt.show()"
   ]
  },
  {
   "cell_type": "code",
   "execution_count": 9,
   "metadata": {
    "scrolled": false
   },
   "outputs": [
    {
     "name": "stdout",
     "output_type": "stream",
     "text": [
      "(1024, 224, 224, 3)\n",
      "(1024, 10)\n",
      "(1024, 224, 224, 3)\n",
      "(1024, 10)\n",
      "(10000, 224, 224, 3)\n",
      "(10000, 10)\n"
     ]
    }
   ],
   "source": [
    "# prep data for vgg16\n",
    "from scipy import ndimage\n",
    "(x_train, y_train),(x_test, y_test) = mnist.load_data()\n",
    "x_val = x_train[1024:2048]\n",
    "y_val = y_train[1024:2048]\n",
    "x_train = x_train[:1024]\n",
    "y_train = y_train[:1024]\n",
    "\n",
    "x_train = ndimage.zoom(x_train, (1,8,8))\n",
    "x_train = x_train.astype('float32')\n",
    "x_train = x_train.reshape(1024, 224, 224, 1)/255\n",
    "x_train = np.concatenate((x_train, x_train, x_train), 3)\n",
    "\n",
    "x_val = ndimage.zoom(x_val, (1,8,8))\n",
    "x_val = x_val.astype('float32')\n",
    "x_val = x_val.reshape(1024, 224, 224, 1)/255\n",
    "x_val = np.concatenate((x_val, x_val, x_val), 3)\n",
    "\n",
    "x_test = ndimage.zoom(x_test, (1,8,8))\n",
    "x_test = x_test.astype('float32')\n",
    "x_test = x_test.reshape(10000, 224, 224, 1)/255\n",
    "x_test = np.concatenate((x_test, x_test, x_test), 3)\n",
    "\n",
    "y_train = utils.to_categorical(y_train, 10)\n",
    "y_val = utils.to_categorical(y_val, 10)\n",
    "y_test = utils.to_categorical(y_test, 10)\n",
    "print(x_train.shape)\n",
    "print(y_train.shape)\n",
    "print(x_val.shape)\n",
    "print(y_val.shape)\n",
    "print(x_test.shape)\n",
    "print(y_test.shape)"
   ]
  },
  {
   "cell_type": "code",
   "execution_count": 10,
   "metadata": {
    "scrolled": true
   },
   "outputs": [
    {
     "name": "stdout",
     "output_type": "stream",
     "text": [
      "Train on 1024 samples, validate on 1024 samples\n",
      "Epoch 1/25\n",
      "1024/1024 [==============================] - 170s 166ms/step - loss: 1.9021 - acc: 0.3623 - val_loss: 1.4451 - val_acc: 0.6191\n",
      "Epoch 2/25\n",
      "1024/1024 [==============================] - 163s 159ms/step - loss: 1.1792 - acc: 0.6660 - val_loss: 1.0074 - val_acc: 0.7305\n",
      "Epoch 3/25\n",
      "1024/1024 [==============================] - 163s 159ms/step - loss: 0.7835 - acc: 0.7959 - val_loss: 0.7856 - val_acc: 0.7773\n",
      "Epoch 4/25\n",
      "1024/1024 [==============================] - 162s 158ms/step - loss: 0.6062 - acc: 0.8340 - val_loss: 0.6350 - val_acc: 0.8213\n",
      "Epoch 5/25\n",
      "1024/1024 [==============================] - 162s 158ms/step - loss: 0.4757 - acc: 0.8711 - val_loss: 0.5505 - val_acc: 0.8340\n",
      "Epoch 6/25\n",
      "1024/1024 [==============================] - 162s 158ms/step - loss: 0.4170 - acc: 0.8818 - val_loss: 0.4811 - val_acc: 0.8486\n",
      "Epoch 7/25\n",
      "1024/1024 [==============================] - 182s 177ms/step - loss: 0.3551 - acc: 0.8965 - val_loss: 0.4370 - val_acc: 0.8662\n",
      "Epoch 8/25\n",
      "1024/1024 [==============================] - 162s 158ms/step - loss: 0.3054 - acc: 0.9092 - val_loss: 0.4678 - val_acc: 0.8535\n",
      "Epoch 9/25\n",
      "1024/1024 [==============================] - 165s 161ms/step - loss: 0.2852 - acc: 0.9141 - val_loss: 0.4305 - val_acc: 0.8467\n",
      "Epoch 10/25\n",
      "1024/1024 [==============================] - 169s 165ms/step - loss: 0.2564 - acc: 0.9287 - val_loss: 0.4158 - val_acc: 0.8662\n",
      "Epoch 11/25\n",
      "1024/1024 [==============================] - 162s 158ms/step - loss: 0.2200 - acc: 0.9355 - val_loss: 0.3555 - val_acc: 0.8809\n",
      "Epoch 12/25\n",
      "1024/1024 [==============================] - 165s 161ms/step - loss: 0.2103 - acc: 0.9365 - val_loss: 0.3434 - val_acc: 0.8857\n",
      "Epoch 13/25\n",
      "1024/1024 [==============================] - 162s 158ms/step - loss: 0.2191 - acc: 0.9355 - val_loss: 0.3540 - val_acc: 0.8779\n",
      "Epoch 14/25\n",
      "1024/1024 [==============================] - 162s 158ms/step - loss: 0.1791 - acc: 0.9541 - val_loss: 0.2854 - val_acc: 0.9102\n",
      "Epoch 15/25\n",
      "1024/1024 [==============================] - 162s 158ms/step - loss: 0.1651 - acc: 0.9424 - val_loss: 0.3263 - val_acc: 0.8984\n",
      "Epoch 16/25\n",
      "1024/1024 [==============================] - 162s 159ms/step - loss: 0.1435 - acc: 0.9531 - val_loss: 0.3309 - val_acc: 0.8955\n",
      "Epoch 17/25\n",
      "1024/1024 [==============================] - 162s 158ms/step - loss: 0.1510 - acc: 0.9541 - val_loss: 0.2529 - val_acc: 0.9238\n",
      "Epoch 18/25\n",
      "1024/1024 [==============================] - 162s 158ms/step - loss: 0.1290 - acc: 0.9668 - val_loss: 0.2313 - val_acc: 0.9326\n",
      "Epoch 19/25\n",
      "1024/1024 [==============================] - 163s 159ms/step - loss: 0.1288 - acc: 0.9561 - val_loss: 0.4744 - val_acc: 0.8496\n",
      "Epoch 20/25\n",
      "1024/1024 [==============================] - 162s 158ms/step - loss: 0.1172 - acc: 0.9658 - val_loss: 0.2360 - val_acc: 0.9287\n",
      "Epoch 21/25\n",
      "1024/1024 [==============================] - 162s 158ms/step - loss: 0.1028 - acc: 0.9717 - val_loss: 0.2454 - val_acc: 0.9180\n",
      "Epoch 22/25\n",
      "1024/1024 [==============================] - 162s 158ms/step - loss: 0.0955 - acc: 0.9707 - val_loss: 0.2459 - val_acc: 0.9307\n",
      "Epoch 23/25\n",
      "1024/1024 [==============================] - 162s 158ms/step - loss: 0.0956 - acc: 0.9688 - val_loss: 0.2823 - val_acc: 0.9131\n",
      "Epoch 24/25\n",
      "1024/1024 [==============================] - 162s 158ms/step - loss: 0.0885 - acc: 0.9688 - val_loss: 0.2642 - val_acc: 0.9209\n",
      "Epoch 25/25\n",
      "1024/1024 [==============================] - 165s 161ms/step - loss: 0.0766 - acc: 0.9805 - val_loss: 0.2007 - val_acc: 0.9385\n"
     ]
    }
   ],
   "source": [
    "# run experiment with vgg16 with only training new layers\n",
    "from keras.applications.vgg16 import VGG16\n",
    "\n",
    "base_model = VGG16(weights='imagenet', include_top=False)\n",
    "\n",
    "# make 3 final layers on the model\n",
    "x = base_model.output\n",
    "x = layers.GlobalAveragePooling2D()(x)\n",
    "x = layers.Dense(1024, activation='relu')(x)\n",
    "outputs = layers.Dense(10, activation='softmax')(x) # 10 classes\n",
    "\n",
    "model = models.Model(inputs=base_model.input, outputs=outputs)\n",
    "\n",
    "# only train new layers\n",
    "for layer in base_model.layers:\n",
    "    layer.trainable = False\n",
    "\n",
    "model.compile(optimizer='rmsprop', \n",
    "              loss='categorical_crossentropy',\n",
    "              metrics=['accuracy'])\n",
    "\n",
    "hist = model.fit(x_train, y_train, batch_size=16, \n",
    "            epochs=30, \n",
    "            validation_data=(x_val,y_val))\n",
    "\n",
    "score = model.evaluate(x_test, y_test)\n",
    "print('Test Loss:', score[0], 'Test_accuracy:', score[1])"
   ]
  },
  {
   "cell_type": "code",
   "execution_count": 12,
   "metadata": {},
   "outputs": [
    {
     "name": "stdout",
     "output_type": "stream",
     "text": [
      "10000/10000 [==============================] - 855s 86ms/step\n",
      "('Test Loss:', 0.1883987924158573, 'Test_accuracy:', 0.94320000000000004)\n"
     ]
    }
   ],
   "source": [
    "#score = model.evaluate(x_test, y_test)\n",
    "#print('Test Loss:', score[0], 'Test_accuracy:', score[1])"
   ]
  },
  {
   "cell_type": "code",
   "execution_count": 13,
   "metadata": {},
   "outputs": [
    {
     "data": {
      "image/png": "[encoded data removed]",
      "text/plain": [
       "<matplotlib.figure.Figure at 0x7fe7746c7950>"
      ]
     },
     "metadata": {
      "needs_background": "light"
     },
     "output_type": "display_data"
    }
   ],
   "source": [
    "plt.plot(hist.history['acc'])\n",
    "plt.plot(hist.history['val_acc'])\n",
    "plt.legend(['Training Accuracy', 'Validation Accuracy'])\n",
    "plt.title('Performance of VGG16 model on MNIST')\n",
    "plt.xlabel('Epoch')\n",
    "plt.xlabel('Accuracy')\n",
    "plt.ylim((0,1))\n",
    "plt.show()"
   ]
  },
  {
   "cell_type": "code",
   "execution_count": 14,
   "metadata": {},
   "outputs": [
    {
     "name": "stdout",
     "output_type": "stream",
     "text": [
      "Train on 1024 samples, validate on 1024 samples\n",
      "Epoch 1/30\n",
      "1024/1024 [==============================] - 169s 165ms/step - loss: 1.4610 - acc: 0.5225 - val_loss: 0.4400 - val_acc: 0.8877\n",
      "Epoch 2/30\n",
      "1024/1024 [==============================] - 168s 164ms/step - loss: 0.3555 - acc: 0.8857 - val_loss: 0.2747 - val_acc: 0.9180\n",
      "Epoch 3/30\n",
      "1024/1024 [==============================] - 168s 164ms/step - loss: 0.1709 - acc: 0.9492 - val_loss: 0.1783 - val_acc: 0.9434\n",
      "Epoch 4/30\n",
      "1024/1024 [==============================] - 166s 162ms/step - loss: 0.1248 - acc: 0.9697 - val_loss: 0.0988 - val_acc: 0.9717\n",
      "Epoch 5/30\n",
      "1024/1024 [==============================] - 166s 162ms/step - loss: 0.0823 - acc: 0.9785 - val_loss: 0.1273 - val_acc: 0.9561\n",
      "Epoch 6/30\n",
      "1024/1024 [==============================] - 167s 163ms/step - loss: 0.0773 - acc: 0.9814 - val_loss: 0.1045 - val_acc: 0.9688\n",
      "Epoch 7/30\n",
      "1024/1024 [==============================] - 175s 171ms/step - loss: 0.0714 - acc: 0.9844 - val_loss: 0.0986 - val_acc: 0.9717\n",
      "Epoch 8/30\n",
      "1024/1024 [==============================] - 175s 171ms/step - loss: 0.0030 - acc: 0.9990 - val_loss: 2.3132 - val_acc: 0.7197\n",
      "Epoch 9/30\n",
      "1024/1024 [==============================] - 175s 171ms/step - loss: 0.0587 - acc: 0.9893 - val_loss: 0.1060 - val_acc: 0.9697\n",
      "Epoch 10/30\n",
      "1024/1024 [==============================] - 175s 171ms/step - loss: 0.0646 - acc: 0.9922 - val_loss: 0.1549 - val_acc: 0.9639\n",
      "Epoch 11/30\n",
      "1024/1024 [==============================] - 175s 171ms/step - loss: 1.9795e-04 - acc: 1.0000 - val_loss: 0.1033 - val_acc: 0.9736\n",
      "Epoch 12/30\n",
      "1024/1024 [==============================] - 175s 171ms/step - loss: 0.0456 - acc: 0.9922 - val_loss: 0.1770 - val_acc: 0.9639\n",
      "Epoch 13/30\n",
      "1024/1024 [==============================] - 168s 165ms/step - loss: 0.0187 - acc: 0.9961 - val_loss: 0.1912 - val_acc: 0.9658\n",
      "Epoch 14/30\n",
      "1024/1024 [==============================] - 166s 162ms/step - loss: 1.0266e-04 - acc: 1.0000 - val_loss: 0.1712 - val_acc: 0.9648\n",
      "Epoch 15/30\n",
      "1024/1024 [==============================] - 167s 163ms/step - loss: 0.0331 - acc: 0.9951 - val_loss: 0.1846 - val_acc: 0.9658\n",
      "Epoch 16/30\n",
      "1024/1024 [==============================] - 166s 162ms/step - loss: 6.1865e-05 - acc: 1.0000 - val_loss: 0.1494 - val_acc: 0.9697\n",
      "Epoch 17/30\n",
      "1024/1024 [==============================] - 166s 162ms/step - loss: 0.0462 - acc: 0.9922 - val_loss: 0.1476 - val_acc: 0.9697\n",
      "Epoch 18/30\n",
      "1024/1024 [==============================] - 166s 162ms/step - loss: 4.2318e-05 - acc: 1.0000 - val_loss: 0.1745 - val_acc: 0.9707\n",
      "Epoch 19/30\n",
      "1024/1024 [==============================] - 166s 162ms/step - loss: 0.0913 - acc: 0.9873 - val_loss: 0.1550 - val_acc: 0.9727\n",
      "Epoch 20/30\n",
      "1024/1024 [==============================] - 167s 163ms/step - loss: 4.0819e-06 - acc: 1.0000 - val_loss: 0.1507 - val_acc: 0.9717\n",
      "Epoch 21/30\n",
      "1024/1024 [==============================] - 175s 171ms/step - loss: 1.8695e-06 - acc: 1.0000 - val_loss: 0.1713 - val_acc: 0.9697\n",
      "Epoch 22/30\n",
      "1024/1024 [==============================] - 177s 173ms/step - loss: 3.0751e-07 - acc: 1.0000 - val_loss: 0.1756 - val_acc: 0.9697\n",
      "Epoch 23/30\n",
      "1024/1024 [==============================] - 177s 173ms/step - loss: 0.0423 - acc: 0.9912 - val_loss: 0.3330 - val_acc: 0.9521\n",
      "Epoch 24/30\n",
      "1024/1024 [==============================] - 171s 167ms/step - loss: 0.0434 - acc: 0.9941 - val_loss: 0.2532 - val_acc: 0.9590\n",
      "Epoch 25/30\n",
      "1024/1024 [==============================] - 176s 172ms/step - loss: 0.0407 - acc: 0.9912 - val_loss: 0.2618 - val_acc: 0.9570\n",
      "Epoch 26/30\n",
      "1024/1024 [==============================] - 169s 165ms/step - loss: 3.5700e-05 - acc: 1.0000 - val_loss: 0.2083 - val_acc: 0.9688\n",
      "Epoch 27/30\n",
      "1024/1024 [==============================] - 166s 162ms/step - loss: 1.3917e-06 - acc: 1.0000 - val_loss: 0.1750 - val_acc: 0.9736\n",
      "Epoch 28/30\n",
      "1024/1024 [==============================] - 166s 162ms/step - loss: 2.5466e-07 - acc: 1.0000 - val_loss: 0.1688 - val_acc: 0.9736\n",
      "Epoch 29/30\n",
      "1024/1024 [==============================] - 166s 162ms/step - loss: 1.4866e-07 - acc: 1.0000 - val_loss: 0.1736 - val_acc: 0.9756\n",
      "Epoch 30/30\n",
      "1024/1024 [==============================] - 166s 163ms/step - loss: 1.2806e-07 - acc: 1.0000 - val_loss: 0.1708 - val_acc: 0.9766\n"
     ]
    },
    {
     "ename": "ResourceExhaustedError",
     "evalue": "OOM when allocating tensor with shape[32,64,224,224] and type float on /job:localhost/replica:0/task:0/device:GPU:0 by allocator GPU_0_bfc\n\t [[Node: block1_conv2_1/convolution = Conv2D[T=DT_FLOAT, data_format=\"NCHW\", dilations=[1, 1, 1, 1], padding=\"SAME\", strides=[1, 1, 1, 1], use_cudnn_on_gpu=true, _device=\"/job:localhost/replica:0/task:0/device:GPU:0\"](block1_conv1_1/Relu, block1_conv2_1/kernel/read)]]\nHint: If you want to see a list of allocated tensors when OOM happens, add report_tensor_allocations_upon_oom to RunOptions for current allocation info.\n",
     "output_type": "error",
     "traceback": [
      "\u001b[0;31m---------------------------------------------------------------------------\u001b[0m",
      "\u001b[0;31mResourceExhaustedError\u001b[0m                    Traceback (most recent call last)",
      "\u001b[0;32m<ipython-input-14-9332dacd4424>\u001b[0m in \u001b[0;36m<module>\u001b[0;34m()\u001b[0m\n\u001b[1;32m     23\u001b[0m            validation_data=(x_val,y_val))\n\u001b[1;32m     24\u001b[0m \u001b[0;34m\u001b[0m\u001b[0m\n\u001b[0;32m---> 25\u001b[0;31m \u001b[0mscore\u001b[0m \u001b[0;34m=\u001b[0m \u001b[0mmodel\u001b[0m\u001b[0;34m.\u001b[0m\u001b[0mevaluate\u001b[0m\u001b[0;34m(\u001b[0m\u001b[0mx_test\u001b[0m\u001b[0;34m,\u001b[0m \u001b[0my_test\u001b[0m\u001b[0;34m)\u001b[0m\u001b[0;34m\u001b[0m\u001b[0m\n\u001b[0m\u001b[1;32m     26\u001b[0m \u001b[0;32mprint\u001b[0m\u001b[0;34m(\u001b[0m\u001b[0;34m'Test Loss:'\u001b[0m\u001b[0;34m,\u001b[0m \u001b[0mscore\u001b[0m\u001b[0;34m[\u001b[0m\u001b[0;36m0\u001b[0m\u001b[0;34m]\u001b[0m\u001b[0;34m,\u001b[0m \u001b[0;34m'Test_accuracy:'\u001b[0m\u001b[0;34m,\u001b[0m \u001b[0mscore\u001b[0m\u001b[0;34m[\u001b[0m\u001b[0;36m1\u001b[0m\u001b[0;34m]\u001b[0m\u001b[0;34m)\u001b[0m\u001b[0;34m\u001b[0m\u001b[0m\n",
      "\u001b[0;32m/home/amaral/anaconda2/envs/pods/lib/python2.7/site-packages/keras/engine/training.pyc\u001b[0m in \u001b[0;36mevaluate\u001b[0;34m(self, x, y, batch_size, verbose, sample_weight, steps)\u001b[0m\n\u001b[1;32m   1111\u001b[0m                                          \u001b[0mbatch_size\u001b[0m\u001b[0;34m=\u001b[0m\u001b[0mbatch_size\u001b[0m\u001b[0;34m,\u001b[0m\u001b[0;34m\u001b[0m\u001b[0m\n\u001b[1;32m   1112\u001b[0m                                          \u001b[0mverbose\u001b[0m\u001b[0;34m=\u001b[0m\u001b[0mverbose\u001b[0m\u001b[0;34m,\u001b[0m\u001b[0;34m\u001b[0m\u001b[0m\n\u001b[0;32m-> 1113\u001b[0;31m                                          steps=steps)\n\u001b[0m\u001b[1;32m   1114\u001b[0m \u001b[0;34m\u001b[0m\u001b[0m\n\u001b[1;32m   1115\u001b[0m     def predict(self, x,\n",
      "\u001b[0;32m/home/amaral/anaconda2/envs/pods/lib/python2.7/site-packages/keras/engine/training_arrays.pyc\u001b[0m in \u001b[0;36mtest_loop\u001b[0;34m(model, f, ins, batch_size, verbose, steps)\u001b[0m\n\u001b[1;32m    390\u001b[0m                 \u001b[0mins_batch\u001b[0m\u001b[0;34m[\u001b[0m\u001b[0mi\u001b[0m\u001b[0;34m]\u001b[0m \u001b[0;34m=\u001b[0m \u001b[0mins_batch\u001b[0m\u001b[0;34m[\u001b[0m\u001b[0mi\u001b[0m\u001b[0;34m]\u001b[0m\u001b[0;34m.\u001b[0m\u001b[0mtoarray\u001b[0m\u001b[0;34m(\u001b[0m\u001b[0;34m)\u001b[0m\u001b[0;34m\u001b[0m\u001b[0m\n\u001b[1;32m    391\u001b[0m \u001b[0;34m\u001b[0m\u001b[0m\n\u001b[0;32m--> 392\u001b[0;31m             \u001b[0mbatch_outs\u001b[0m \u001b[0;34m=\u001b[0m \u001b[0mf\u001b[0m\u001b[0;34m(\u001b[0m\u001b[0mins_batch\u001b[0m\u001b[0;34m)\u001b[0m\u001b[0;34m\u001b[0m\u001b[0m\n\u001b[0m\u001b[1;32m    393\u001b[0m             \u001b[0;32mif\u001b[0m \u001b[0misinstance\u001b[0m\u001b[0;34m(\u001b[0m\u001b[0mbatch_outs\u001b[0m\u001b[0;34m,\u001b[0m \u001b[0mlist\u001b[0m\u001b[0;34m)\u001b[0m\u001b[0;34m:\u001b[0m\u001b[0;34m\u001b[0m\u001b[0m\n\u001b[1;32m    394\u001b[0m                 \u001b[0;32mif\u001b[0m \u001b[0mbatch_index\u001b[0m \u001b[0;34m==\u001b[0m \u001b[0;36m0\u001b[0m\u001b[0;34m:\u001b[0m\u001b[0;34m\u001b[0m\u001b[0m\n",
      "\u001b[0;32m/home/amaral/anaconda2/envs/pods/lib/python2.7/site-packages/keras/backend/tensorflow_backend.pyc\u001b[0m in \u001b[0;36m__call__\u001b[0;34m(self, inputs)\u001b[0m\n\u001b[1;32m   2713\u001b[0m                 \u001b[0;32mreturn\u001b[0m \u001b[0mself\u001b[0m\u001b[0;34m.\u001b[0m\u001b[0m_legacy_call\u001b[0m\u001b[0;34m(\u001b[0m\u001b[0minputs\u001b[0m\u001b[0;34m)\u001b[0m\u001b[0;34m\u001b[0m\u001b[0m\n\u001b[1;32m   2714\u001b[0m \u001b[0;34m\u001b[0m\u001b[0m\n\u001b[0;32m-> 2715\u001b[0;31m             \u001b[0;32mreturn\u001b[0m \u001b[0mself\u001b[0m\u001b[0;34m.\u001b[0m\u001b[0m_call\u001b[0m\u001b[0;34m(\u001b[0m\u001b[0minputs\u001b[0m\u001b[0;34m)\u001b[0m\u001b[0;34m\u001b[0m\u001b[0m\n\u001b[0m\u001b[1;32m   2716\u001b[0m         \u001b[0;32melse\u001b[0m\u001b[0;34m:\u001b[0m\u001b[0;34m\u001b[0m\u001b[0m\n\u001b[1;32m   2717\u001b[0m             \u001b[0;32mif\u001b[0m \u001b[0mpy_any\u001b[0m\u001b[0;34m(\u001b[0m\u001b[0mis_tensor\u001b[0m\u001b[0;34m(\u001b[0m\u001b[0mx\u001b[0m\u001b[0;34m)\u001b[0m \u001b[0;32mfor\u001b[0m \u001b[0mx\u001b[0m \u001b[0;32min\u001b[0m \u001b[0minputs\u001b[0m\u001b[0;34m)\u001b[0m\u001b[0;34m:\u001b[0m\u001b[0;34m\u001b[0m\u001b[0m\n",
      "\u001b[0;32m/home/amaral/anaconda2/envs/pods/lib/python2.7/site-packages/keras/backend/tensorflow_backend.pyc\u001b[0m in \u001b[0;36m_call\u001b[0;34m(self, inputs)\u001b[0m\n\u001b[1;32m   2673\u001b[0m             \u001b[0mfetched\u001b[0m \u001b[0;34m=\u001b[0m \u001b[0mself\u001b[0m\u001b[0;34m.\u001b[0m\u001b[0m_callable_fn\u001b[0m\u001b[0;34m(\u001b[0m\u001b[0;34m*\u001b[0m\u001b[0marray_vals\u001b[0m\u001b[0;34m,\u001b[0m \u001b[0mrun_metadata\u001b[0m\u001b[0;34m=\u001b[0m\u001b[0mself\u001b[0m\u001b[0;34m.\u001b[0m\u001b[0mrun_metadata\u001b[0m\u001b[0;34m)\u001b[0m\u001b[0;34m\u001b[0m\u001b[0m\n\u001b[1;32m   2674\u001b[0m         \u001b[0;32melse\u001b[0m\u001b[0;34m:\u001b[0m\u001b[0;34m\u001b[0m\u001b[0m\n\u001b[0;32m-> 2675\u001b[0;31m             \u001b[0mfetched\u001b[0m \u001b[0;34m=\u001b[0m \u001b[0mself\u001b[0m\u001b[0;34m.\u001b[0m\u001b[0m_callable_fn\u001b[0m\u001b[0;34m(\u001b[0m\u001b[0;34m*\u001b[0m\u001b[0marray_vals\u001b[0m\u001b[0;34m)\u001b[0m\u001b[0;34m\u001b[0m\u001b[0m\n\u001b[0m\u001b[1;32m   2676\u001b[0m         \u001b[0;32mreturn\u001b[0m \u001b[0mfetched\u001b[0m\u001b[0;34m[\u001b[0m\u001b[0;34m:\u001b[0m\u001b[0mlen\u001b[0m\u001b[0;34m(\u001b[0m\u001b[0mself\u001b[0m\u001b[0;34m.\u001b[0m\u001b[0moutputs\u001b[0m\u001b[0;34m)\u001b[0m\u001b[0;34m]\u001b[0m\u001b[0;34m\u001b[0m\u001b[0m\n\u001b[1;32m   2677\u001b[0m \u001b[0;34m\u001b[0m\u001b[0m\n",
      "\u001b[0;32m/home/amaral/anaconda2/envs/pods/lib/python2.7/site-packages/tensorflow/python/client/session.pyc\u001b[0m in \u001b[0;36m__call__\u001b[0;34m(self, *args)\u001b[0m\n\u001b[1;32m   1452\u001b[0m         \u001b[0;32melse\u001b[0m\u001b[0;34m:\u001b[0m\u001b[0;34m\u001b[0m\u001b[0m\n\u001b[1;32m   1453\u001b[0m           return tf_session.TF_DeprecatedSessionRunCallable(\n\u001b[0;32m-> 1454\u001b[0;31m               self._session._session, self._handle, args, status, None)\n\u001b[0m\u001b[1;32m   1455\u001b[0m \u001b[0;34m\u001b[0m\u001b[0m\n\u001b[1;32m   1456\u001b[0m     \u001b[0;32mdef\u001b[0m \u001b[0m__del__\u001b[0m\u001b[0;34m(\u001b[0m\u001b[0mself\u001b[0m\u001b[0;34m)\u001b[0m\u001b[0;34m:\u001b[0m\u001b[0;34m\u001b[0m\u001b[0m\n",
      "\u001b[0;32m/home/amaral/anaconda2/envs/pods/lib/python2.7/site-packages/tensorflow/python/framework/errors_impl.pyc\u001b[0m in \u001b[0;36m__exit__\u001b[0;34m(self, type_arg, value_arg, traceback_arg)\u001b[0m\n\u001b[1;32m    517\u001b[0m             \u001b[0mNone\u001b[0m\u001b[0;34m,\u001b[0m \u001b[0mNone\u001b[0m\u001b[0;34m,\u001b[0m\u001b[0;34m\u001b[0m\u001b[0m\n\u001b[1;32m    518\u001b[0m             \u001b[0mcompat\u001b[0m\u001b[0;34m.\u001b[0m\u001b[0mas_text\u001b[0m\u001b[0;34m(\u001b[0m\u001b[0mc_api\u001b[0m\u001b[0;34m.\u001b[0m\u001b[0mTF_Message\u001b[0m\u001b[0;34m(\u001b[0m\u001b[0mself\u001b[0m\u001b[0;34m.\u001b[0m\u001b[0mstatus\u001b[0m\u001b[0;34m.\u001b[0m\u001b[0mstatus\u001b[0m\u001b[0;34m)\u001b[0m\u001b[0;34m)\u001b[0m\u001b[0;34m,\u001b[0m\u001b[0;34m\u001b[0m\u001b[0m\n\u001b[0;32m--> 519\u001b[0;31m             c_api.TF_GetCode(self.status.status))\n\u001b[0m\u001b[1;32m    520\u001b[0m     \u001b[0;31m# Delete the underlying status object from memory otherwise it stays alive\u001b[0m\u001b[0;34m\u001b[0m\u001b[0;34m\u001b[0m\u001b[0m\n\u001b[1;32m    521\u001b[0m     \u001b[0;31m# as there is a reference to status from this from the traceback due to\u001b[0m\u001b[0;34m\u001b[0m\u001b[0;34m\u001b[0m\u001b[0m\n",
      "\u001b[0;31mResourceExhaustedError\u001b[0m: OOM when allocating tensor with shape[32,64,224,224] and type float on /job:localhost/replica:0/task:0/device:GPU:0 by allocator GPU_0_bfc\n\t [[Node: block1_conv2_1/convolution = Conv2D[T=DT_FLOAT, data_format=\"NCHW\", dilations=[1, 1, 1, 1], padding=\"SAME\", strides=[1, 1, 1, 1], use_cudnn_on_gpu=true, _device=\"/job:localhost/replica:0/task:0/device:GPU:0\"](block1_conv1_1/Relu, block1_conv2_1/kernel/read)]]\nHint: If you want to see a list of allocated tensors when OOM happens, add report_tensor_allocations_upon_oom to RunOptions for current allocation info.\n"
     ]
    }
   ],
   "source": [
    "# run experiment with vgg16 with training new layers, and\n",
    "# last 2 of original\n",
    "base_model = VGG16(weights='imagenet', include_top=False)\n",
    "\n",
    "# make 3 final layers on the model\n",
    "x = base_model.output\n",
    "x = layers.GlobalAveragePooling2D()(x)\n",
    "x = layers.Dense(1024, activation='relu')(x)\n",
    "outputs = layers.Dense(10, activation='softmax')(x) # 10 classes\n",
    "\n",
    "model = models.Model(inputs=base_model.input, outputs=outputs)\n",
    "\n",
    "# train new layers and last 2 of original\n",
    "for layer in base_model.layers[:-2]:\n",
    "    layer.trainable = False\n",
    "\n",
    "model.compile(optimizer='rmsprop', \n",
    "              loss='categorical_crossentropy',\n",
    "              metrics=['accuracy'])\n",
    "\n",
    "hist = model.fit(x_train, y_train, batch_size=16, \n",
    "           epochs=30, \n",
    "           validation_data=(x_val,y_val))\n",
    "\n",
    "score = model.evaluate(x_test, y_test)\n",
    "print('Test Loss:', score[0], 'Test_accuracy:', score[1])"
   ]
  },
  {
   "cell_type": "code",
   "execution_count": 33,
   "metadata": {},
   "outputs": [
    {
     "name": "stdout",
     "output_type": "stream",
     "text": [
      "30/30 [==============================] - 3s 88ms/step\n",
      "('Test Loss:', 0.0037669714074581861, 'Test_accuracy:', 1.0)\n"
     ]
    }
   ],
   "source": [
    "# apparently this is the limit to the test size for this \n",
    "# model on my GPU\n",
    "score = model.evaluate(x_test[:30], y_test[:30])\n",
    "print('Test Loss:', score[0], 'Test_accuracy:', score[1])"
   ]
  },
  {
   "cell_type": "code",
   "execution_count": 23,
   "metadata": {},
   "outputs": [
    {
     "data": {
      "image/png": "[encoded data removed]",
      "text/plain": [
       "<matplotlib.figure.Figure at 0x7fe79da82b90>"
      ]
     },
     "metadata": {
      "needs_background": "light"
     },
     "output_type": "display_data"
    }
   ],
   "source": [
    "plt.plot(hist.history['acc'])\n",
    "plt.plot(hist.history['val_acc'])\n",
    "plt.legend(['Training Accuracy', 'Validation Accuracy'])\n",
    "plt.title('Performance of VGG16 model on MNIST')\n",
    "plt.xlabel('Epoch')\n",
    "plt.xlabel('Accuracy')\n",
    "plt.ylim((0,1))\n",
    "plt.show()"
   ]
  },
  {
   "cell_type": "markdown",
   "metadata": {
    "collapsed": true
   },
   "source": [
    "It appears that it is very important to train more layers than the extras that were added onto VGG16. VGG16 took up a lot of memory, and I couldn't even test it on much data, without going over memory on my GPU. Though I find it very odd that it could train, and do validation no problem, but testing has to be so small. Maybe it would have worked with more data using CPU instead?"
   ]
  },
  {
   "cell_type": "code",
   "execution_count": null,
   "metadata": {
    "collapsed": true
   },
   "outputs": [],
   "source": []
  }
 ],
 "metadata": {
  "kernelspec": {
   "display_name": "python (pods)",
   "language": "python",
   "name": "pods"
  },
  "language_info": {
   "codemirror_mode": {
    "name": "ipython",
    "version": 2
   },
   "file_extension": ".py",
   "mimetype": "text/x-python",
   "name": "python",
   "nbconvert_exporter": "python",
   "pygments_lexer": "ipython2",
   "version": "2.7.15"
  }
 },
 "nbformat": 4,
 "nbformat_minor": 2
}
