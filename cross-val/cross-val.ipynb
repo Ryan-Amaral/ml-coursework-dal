{
 "cells": [
  {
   "cell_type": "markdown",
   "metadata": {},
   "source": [
    "# Cross Validation\n",
    "This notebook contains my own implementation of cross validation, and explores cross validation on a few models."
   ]
  },
  {
   "cell_type": "code",
   "execution_count": 1,
   "metadata": {
    "collapsed": true
   },
   "outputs": [],
   "source": [
    "# load in the data\n",
    "import tensorflow as tf\n",
    "mnist = tf.keras.datasets.mnist\n",
    "(xTrain, yTrain), (xTest, yTest) = mnist.load_data()"
   ]
  },
  {
   "cell_type": "code",
   "execution_count": 2,
   "metadata": {
    "scrolled": true
   },
   "outputs": [
    {
     "name": "stdout",
     "output_type": "stream",
     "text": [
      "5\n",
      "[[  0   0   0   0   0   0   0   0   0   0   0   0   0   0   0   0   0   0\n",
      "    0   0   0   0   0   0   0   0   0   0]\n",
      " [  0   0   0   0   0   0   0   0   0   0   0   0   0   0   0   0   0   0\n",
      "    0   0   0   0   0   0   0   0   0   0]\n",
      " [  0   0   0   0   0   0   0   0   0   0   0   0   0   0   0   0   0   0\n",
      "    0   0   0   0   0   0   0   0   0   0]\n",
      " [  0   0   0   0   0   0   0   0   0   0   0   0   0   0   0   0   0   0\n",
      "    0   0   0   0   0   0   0   0   0   0]\n",
      " [  0   0   0   0   0   0   0   0   0   0   0   0   0   0   0   0   0   0\n",
      "    0   0   0   0   0   0   0   0   0   0]\n",
      " [  0   0   0   0   0   0   0   0   0   0   0   0   3  18  18  18 126 136\n",
      "  175  26 166 255 247 127   0   0   0   0]\n",
      " [  0   0   0   0   0   0   0   0  30  36  94 154 170 253 253 253 253 253\n",
      "  225 172 253 242 195  64   0   0   0   0]\n",
      " [  0   0   0   0   0   0   0  49 238 253 253 253 253 253 253 253 253 251\n",
      "   93  82  82  56  39   0   0   0   0   0]\n",
      " [  0   0   0   0   0   0   0  18 219 253 253 253 253 253 198 182 247 241\n",
      "    0   0   0   0   0   0   0   0   0   0]\n",
      " [  0   0   0   0   0   0   0   0  80 156 107 253 253 205  11   0  43 154\n",
      "    0   0   0   0   0   0   0   0   0   0]\n",
      " [  0   0   0   0   0   0   0   0   0  14   1 154 253  90   0   0   0   0\n",
      "    0   0   0   0   0   0   0   0   0   0]\n",
      " [  0   0   0   0   0   0   0   0   0   0   0 139 253 190   2   0   0   0\n",
      "    0   0   0   0   0   0   0   0   0   0]\n",
      " [  0   0   0   0   0   0   0   0   0   0   0  11 190 253  70   0   0   0\n",
      "    0   0   0   0   0   0   0   0   0   0]\n",
      " [  0   0   0   0   0   0   0   0   0   0   0   0  35 241 225 160 108   1\n",
      "    0   0   0   0   0   0   0   0   0   0]\n",
      " [  0   0   0   0   0   0   0   0   0   0   0   0   0  81 240 253 253 119\n",
      "   25   0   0   0   0   0   0   0   0   0]\n",
      " [  0   0   0   0   0   0   0   0   0   0   0   0   0   0  45 186 253 253\n",
      "  150  27   0   0   0   0   0   0   0   0]\n",
      " [  0   0   0   0   0   0   0   0   0   0   0   0   0   0   0  16  93 252\n",
      "  253 187   0   0   0   0   0   0   0   0]\n",
      " [  0   0   0   0   0   0   0   0   0   0   0   0   0   0   0   0   0 249\n",
      "  253 249  64   0   0   0   0   0   0   0]\n",
      " [  0   0   0   0   0   0   0   0   0   0   0   0   0   0  46 130 183 253\n",
      "  253 207   2   0   0   0   0   0   0   0]\n",
      " [  0   0   0   0   0   0   0   0   0   0   0   0  39 148 229 253 253 253\n",
      "  250 182   0   0   0   0   0   0   0   0]\n",
      " [  0   0   0   0   0   0   0   0   0   0  24 114 221 253 253 253 253 201\n",
      "   78   0   0   0   0   0   0   0   0   0]\n",
      " [  0   0   0   0   0   0   0   0  23  66 213 253 253 253 253 198  81   2\n",
      "    0   0   0   0   0   0   0   0   0   0]\n",
      " [  0   0   0   0   0   0  18 171 219 253 253 253 253 195  80   9   0   0\n",
      "    0   0   0   0   0   0   0   0   0   0]\n",
      " [  0   0   0   0  55 172 226 253 253 253 253 244 133  11   0   0   0   0\n",
      "    0   0   0   0   0   0   0   0   0   0]\n",
      " [  0   0   0   0 136 253 253 253 212 135 132  16   0   0   0   0   0   0\n",
      "    0   0   0   0   0   0   0   0   0   0]\n",
      " [  0   0   0   0   0   0   0   0   0   0   0   0   0   0   0   0   0   0\n",
      "    0   0   0   0   0   0   0   0   0   0]\n",
      " [  0   0   0   0   0   0   0   0   0   0   0   0   0   0   0   0   0   0\n",
      "    0   0   0   0   0   0   0   0   0   0]\n",
      " [  0   0   0   0   0   0   0   0   0   0   0   0   0   0   0   0   0   0\n",
      "    0   0   0   0   0   0   0   0   0   0]]\n"
     ]
    }
   ],
   "source": [
    "# see what data looks like\n",
    "print(yTrain[0])\n",
    "print(xTrain[0])"
   ]
  },
  {
   "cell_type": "code",
   "execution_count": 3,
   "metadata": {
    "scrolled": true
   },
   "outputs": [
    {
     "data": {
      "text/plain": [
       "<Figure size 640x480 with 1 Axes>"
      ]
     },
     "metadata": {},
     "output_type": "display_data"
    },
    {
     "data": {
      "text/plain": [
       "<Figure size 640x480 with 1 Axes>"
      ]
     },
     "metadata": {},
     "output_type": "display_data"
    },
    {
     "data": {
      "text/plain": [
       "<Figure size 640x480 with 1 Axes>"
      ]
     },
     "metadata": {},
     "output_type": "display_data"
    }
   ],
   "source": [
    "# show some data examples\n",
    "# may have to rerun to see images\n",
    "import matplotlib.pyplot as plt\n",
    "\n",
    "plt.imshow(xTrain[0])\n",
    "plt.title('Image of ' + str(yTrain[0]))\n",
    "plt.show()\n",
    "plt.imshow(xTrain[1])\n",
    "plt.title('Image of ' + str(yTrain[1]))\n",
    "plt.show()\n",
    "plt.imshow(xTrain[2])\n",
    "plt.title('Image of ' + str(yTrain[2]))\n",
    "plt.show()"
   ]
  },
  {
   "cell_type": "markdown",
   "metadata": {},
   "source": [
    "## Cross Validation\n",
    "### a. What is k-fold cross validation, and what is it used for?\n",
    "k-fold cross validation is to split the data into k \"folds\" (k separate equally sized segments), and uses k-1 folds for training and 1 fold for testing to get an evaluation metric. The fold used for testing is varied each time so that use each of the k folds is the test set once. We will then have k evaluation metrics. We use k-fold cross validation to minimize bias in the training, and to obtain a distribution of evaluation metrics. We can assess a model better with a distribution rather than a single value.\n",
    "\n",
    "### b. Create my of k-fold cross validation method and comparison."
   ]
  },
  {
   "cell_type": "code",
   "execution_count": 4,
   "metadata": {
    "collapsed": true
   },
   "outputs": [],
   "source": [
    "# imports needed\n",
    "from sklearn.svm import LinearSVC\n",
    "from sklearn.ensemble import RandomForestClassifier\n",
    "from sklearn.model_selection import cross_val_score\n",
    "from sklearn import datasets\n",
    "import numpy as np"
   ]
  },
  {
   "cell_type": "code",
   "execution_count": 5,
   "metadata": {
    "collapsed": true
   },
   "outputs": [],
   "source": [
    "# define my own k-fold cross validation method\n",
    "def my_cross_val_score(clf, X, Y, cv):\n",
    "    \n",
    "    scores = np.array([0]*cv, dtype='float32') # holds results\n",
    "    \n",
    "    # shuffle values\n",
    "    state = np.random.get_state()\n",
    "    np.random.shuffle(X)\n",
    "    np.random.set_state(state)\n",
    "    np.random.shuffle(Y)\n",
    "    \n",
    "    # create the folds\n",
    "    foldLen = int(len(X) / cv)\n",
    "    foldsX = []\n",
    "    foldsY = []\n",
    "    \n",
    "    # fill folds with shuffled data\n",
    "    for i in range(cv-1):\n",
    "        foldsX.append(X[foldLen*i : foldLen*(i+1)])\n",
    "        foldsY.append(Y[foldLen*i : foldLen*(i+1)])\n",
    "        \n",
    "    # put all remaining in last\n",
    "    foldsX.append(X[foldLen*(cv-1):])\n",
    "    foldsY.append(Y[foldLen*(cv-1):])\n",
    "    \n",
    "    # get accuracy on each fold\n",
    "    for i in range(cv):\n",
    "        # all folds but one\n",
    "        trainX = []\n",
    "        [trainX.extend(fold) for fold in \n",
    "                  [f for j,f in enumerate(foldsX) if j != i]]\n",
    "        # all folds but one\n",
    "        trainY = []\n",
    "        [trainY.extend(fold) for fold in \n",
    "                  [f for j,f in enumerate(foldsY) if j != i]]\n",
    "            \n",
    "        clf.fit(trainX, trainY)\n",
    "        \n",
    "        # evaluate on the one fold\n",
    "        scores[i] = clf.score(foldsX[i], foldsY[i])\n",
    "        \n",
    "        \n",
    "    return scores"
   ]
  },
  {
   "cell_type": "code",
   "execution_count": 6,
   "metadata": {
    "scrolled": true
   },
   "outputs": [
    {
     "data": {
      "image/png": "[encoded data removed]",
      "text/plain": [
       "<Figure size 432x288 with 1 Axes>"
      ]
     },
     "metadata": {},
     "output_type": "display_data"
    },
    {
     "data": {
      "image/png": "[encoded data removed]",
      "text/plain": [
       "<Figure size 432x288 with 1 Axes>"
      ]
     },
     "metadata": {},
     "output_type": "display_data"
    },
    {
     "data": {
      "image/png": "[encoded data removed]",
      "text/plain": [
       "<Figure size 432x288 with 1 Axes>"
      ]
     },
     "metadata": {},
     "output_type": "display_data"
    },
    {
     "data": {
      "image/png": "[encoded data removed]",
      "text/plain": [
       "<Figure size 432x288 with 1 Axes>"
      ]
     },
     "metadata": {},
     "output_type": "display_data"
    },
    {
     "data": {
      "image/png": "[encoded data removed]",
      "text/plain": [
       "<Figure size 432x288 with 1 Axes>"
      ]
     },
     "metadata": {},
     "output_type": "display_data"
    },
    {
     "data": {
      "image/png": "[encoded data removed]",
      "text/plain": [
       "<Figure size 432x288 with 1 Axes>"
      ]
     },
     "metadata": {},
     "output_type": "display_data"
    },
    {
     "data": {
      "image/png": "[encoded data removed]",
      "text/plain": [
       "<Figure size 432x288 with 1 Axes>"
      ]
     },
     "metadata": {},
     "output_type": "display_data"
    },
    {
     "data": {
      "image/png": "[encoded data removed]",
      "text/plain": [
       "<Figure size 432x288 with 1 Axes>"
      ]
     },
     "metadata": {},
     "output_type": "display_data"
    },
    {
     "data": {
      "image/png": "[encoded data removed]",
      "text/plain": [
       "<Figure size 432x288 with 1 Axes>"
      ]
     },
     "metadata": {},
     "output_type": "display_data"
    },
    {
     "data": {
      "image/png": "[encoded data removed]",
      "text/plain": [
       "<Figure size 432x288 with 1 Axes>"
      ]
     },
     "metadata": {},
     "output_type": "display_data"
    }
   ],
   "source": [
    "# comparison\n",
    "iris = datasets.load_iris()\n",
    "svm = LinearSVC()\n",
    "\n",
    "# compare 10 times\n",
    "for i in range(10):\n",
    "    scoresSklearn = cross_val_score(svm, iris.data, iris.target, cv=10)\n",
    "    scoresMine = my_cross_val_score(svm, iris.data, iris.target, 10)\n",
    "    plt.boxplot([scoresSklearn, scoresMine], labels=['sklearn', 'mine'])\n",
    "    plt.title('Comparison of k-fold cross validation #' + str(i+1))\n",
    "    plt.show()"
   ]
  },
  {
   "cell_type": "markdown",
   "metadata": {},
   "source": [
    "My implementation seems to do just about what sklearn's does.\n",
    "\n",
    "### c. Compare SVM and RF with cross validation"
   ]
  },
  {
   "cell_type": "code",
   "execution_count": 7,
   "metadata": {},
   "outputs": [
    {
     "data": {
      "image/png": "[encoded data removed]",
      "text/plain": [
       "<Figure size 432x288 with 1 Axes>"
      ]
     },
     "metadata": {},
     "output_type": "display_data"
    }
   ],
   "source": [
    "# create models\n",
    "svm = LinearSVC()\n",
    "rf = RandomForestClassifier()\n",
    "\n",
    "\n",
    "# cross validate them\n",
    "scoresSvm = cross_val_score(svm, iris.data, iris.target, cv=10)\n",
    "scoresRf = cross_val_score(rf, iris.data, iris.target, cv=10)\n",
    "\n",
    "# compare\n",
    "plt.boxplot([scoresSvm, scoresRf], labels=['SVM', 'RF'])\n",
    "plt.title('Comparison of SVM and RF on Iris')\n",
    "plt.show()"
   ]
  },
  {
   "cell_type": "markdown",
   "metadata": {},
   "source": [
    "After multiple evaluations, there cannot be made any conclusion on which method is better for this task (assuming default parameters). Also, results are volatile/varied due to the small dataset.\n",
    "\n",
    "## Some model training and predictions\n",
    "\n",
    "### Methodology\n",
    "I will do a grid search and 5-fold cross validation on each of the models. I will select whichever model appears to do well. Then I will do a final fit on that model with the parameters found in the grid search, on 4/5ths of the train data, and check the results with the remaining 1/5th. Then I will make my predictions for the test set."
   ]
  },
  {
   "cell_type": "code",
   "execution_count": 8,
   "metadata": {
    "collapsed": true
   },
   "outputs": [],
   "source": [
    "# new imports needed\n",
    "import pandas as pd\n",
    "from sklearn.neural_network import MLPClassifier\n",
    "from sklearn.svm import SVC\n",
    "from sklearn.model_selection import GridSearchCV"
   ]
  },
  {
   "cell_type": "code",
   "execution_count": 9,
   "metadata": {},
   "outputs": [
    {
     "data": {
      "text/html": [
       "<div>\n",
       "<style scoped>\n",
       "    .dataframe tbody tr th:only-of-type {\n",
       "        vertical-align: middle;\n",
       "    }\n",
       "\n",
       "    .dataframe tbody tr th {\n",
       "        vertical-align: top;\n",
       "    }\n",
       "\n",
       "    .dataframe thead th {\n",
       "        text-align: right;\n",
       "    }\n",
       "</style>\n",
       "<table border=\"1\" class=\"dataframe\">\n",
       "  <thead>\n",
       "    <tr style=\"text-align: right;\">\n",
       "      <th></th>\n",
       "      <th>y</th>\n",
       "      <th>x1</th>\n",
       "      <th>x2</th>\n",
       "      <th>x3</th>\n",
       "      <th>x4</th>\n",
       "      <th>x5</th>\n",
       "      <th>x6</th>\n",
       "      <th>x7</th>\n",
       "      <th>x8</th>\n",
       "      <th>x9</th>\n",
       "      <th>x10</th>\n",
       "      <th>x11</th>\n",
       "      <th>x12</th>\n",
       "    </tr>\n",
       "  </thead>\n",
       "  <tbody>\n",
       "    <tr>\n",
       "      <th>count</th>\n",
       "      <td>120.00000</td>\n",
       "      <td>120.000000</td>\n",
       "      <td>120.000000</td>\n",
       "      <td>120.000000</td>\n",
       "      <td>120.000000</td>\n",
       "      <td>120.000000</td>\n",
       "      <td>120.000000</td>\n",
       "      <td>120.000000</td>\n",
       "      <td>120.000000</td>\n",
       "      <td>120.000000</td>\n",
       "      <td>120.000000</td>\n",
       "      <td>120.000000</td>\n",
       "      <td>120.000000</td>\n",
       "    </tr>\n",
       "    <tr>\n",
       "      <th>mean</th>\n",
       "      <td>2.00000</td>\n",
       "      <td>13.070667</td>\n",
       "      <td>2.356833</td>\n",
       "      <td>2.370917</td>\n",
       "      <td>19.540000</td>\n",
       "      <td>98.958333</td>\n",
       "      <td>2.251333</td>\n",
       "      <td>1.931417</td>\n",
       "      <td>0.358917</td>\n",
       "      <td>1.529250</td>\n",
       "      <td>5.325667</td>\n",
       "      <td>0.934000</td>\n",
       "      <td>2.566333</td>\n",
       "    </tr>\n",
       "    <tr>\n",
       "      <th>std</th>\n",
       "      <td>0.81992</td>\n",
       "      <td>0.785123</td>\n",
       "      <td>1.091626</td>\n",
       "      <td>0.259544</td>\n",
       "      <td>3.282585</td>\n",
       "      <td>12.726863</td>\n",
       "      <td>0.638112</td>\n",
       "      <td>0.997697</td>\n",
       "      <td>0.129256</td>\n",
       "      <td>0.517255</td>\n",
       "      <td>2.358825</td>\n",
       "      <td>0.221232</td>\n",
       "      <td>0.733345</td>\n",
       "    </tr>\n",
       "    <tr>\n",
       "      <th>min</th>\n",
       "      <td>1.00000</td>\n",
       "      <td>11.610000</td>\n",
       "      <td>0.890000</td>\n",
       "      <td>1.700000</td>\n",
       "      <td>11.200000</td>\n",
       "      <td>78.000000</td>\n",
       "      <td>0.980000</td>\n",
       "      <td>0.340000</td>\n",
       "      <td>0.130000</td>\n",
       "      <td>0.410000</td>\n",
       "      <td>1.280000</td>\n",
       "      <td>0.480000</td>\n",
       "      <td>1.270000</td>\n",
       "    </tr>\n",
       "    <tr>\n",
       "      <th>25%</th>\n",
       "      <td>1.00000</td>\n",
       "      <td>12.407500</td>\n",
       "      <td>1.660000</td>\n",
       "      <td>2.230000</td>\n",
       "      <td>16.950000</td>\n",
       "      <td>88.750000</td>\n",
       "      <td>1.700000</td>\n",
       "      <td>0.950000</td>\n",
       "      <td>0.260000</td>\n",
       "      <td>1.140000</td>\n",
       "      <td>3.490000</td>\n",
       "      <td>0.757500</td>\n",
       "      <td>1.820000</td>\n",
       "    </tr>\n",
       "    <tr>\n",
       "      <th>50%</th>\n",
       "      <td>2.00000</td>\n",
       "      <td>13.110000</td>\n",
       "      <td>1.895000</td>\n",
       "      <td>2.360000</td>\n",
       "      <td>19.500000</td>\n",
       "      <td>98.000000</td>\n",
       "      <td>2.200000</td>\n",
       "      <td>2.030000</td>\n",
       "      <td>0.335000</td>\n",
       "      <td>1.545000</td>\n",
       "      <td>5.050000</td>\n",
       "      <td>0.950000</td>\n",
       "      <td>2.760000</td>\n",
       "    </tr>\n",
       "    <tr>\n",
       "      <th>75%</th>\n",
       "      <td>3.00000</td>\n",
       "      <td>13.695000</td>\n",
       "      <td>3.047500</td>\n",
       "      <td>2.560000</td>\n",
       "      <td>21.500000</td>\n",
       "      <td>106.250000</td>\n",
       "      <td>2.742500</td>\n",
       "      <td>2.807500</td>\n",
       "      <td>0.455000</td>\n",
       "      <td>1.870000</td>\n",
       "      <td>6.652500</td>\n",
       "      <td>1.095000</td>\n",
       "      <td>3.170000</td>\n",
       "    </tr>\n",
       "    <tr>\n",
       "      <th>max</th>\n",
       "      <td>3.00000</td>\n",
       "      <td>14.830000</td>\n",
       "      <td>5.800000</td>\n",
       "      <td>3.220000</td>\n",
       "      <td>28.500000</td>\n",
       "      <td>151.000000</td>\n",
       "      <td>3.880000</td>\n",
       "      <td>3.740000</td>\n",
       "      <td>0.660000</td>\n",
       "      <td>2.910000</td>\n",
       "      <td>13.000000</td>\n",
       "      <td>1.360000</td>\n",
       "      <td>4.000000</td>\n",
       "    </tr>\n",
       "  </tbody>\n",
       "</table>\n",
       "</div>"
      ],
      "text/plain": [
       "               y          x1          x2          x3         x4           x5  \\\n",
       "count  120.00000  120.000000  120.000000  120.000000  120.000000  120.000000   \n",
       "mean     2.00000   13.070667    2.356833    2.370917   19.540000   98.958333   \n",
       "std      0.81992    0.785123    1.091626    0.259544    3.282585   12.726863   \n",
       "min      1.00000   11.610000    0.890000    1.700000   11.200000   78.000000   \n",
       "25%      1.00000   12.407500    1.660000    2.230000   16.950000   88.750000   \n",
       "50%      2.00000   13.110000    1.895000    2.360000   19.500000   98.000000   \n",
       "75%      3.00000   13.695000    3.047500    2.560000   21.500000  106.250000   \n",
       "max      3.00000   14.830000    5.800000    3.220000   28.500000  151.000000   \n",
       "\n",
       "               x6          x7          x8          x9         x10         x11  \\\n",
       "count  120.000000  120.000000  120.000000  120.000000  120.000000  120.000000   \n",
       "mean     2.251333    1.931417    0.358917    1.529250    5.325667    0.934000   \n",
       "std      0.638112    0.997697    0.129256    0.517255    2.358825    0.221232   \n",
       "min      0.980000    0.340000    0.130000    0.410000    1.280000    0.480000   \n",
       "25%      1.700000    0.950000    0.260000    1.140000    3.490000    0.757500   \n",
       "50%      2.200000    2.030000    0.335000    1.545000    5.050000    0.950000   \n",
       "75%      2.742500    2.807500    0.455000    1.870000    6.652500    1.095000   \n",
       "max      3.880000    3.740000    0.660000    2.910000   13.000000    1.360000   \n",
       "\n",
       "              x12  \n",
       "count  120.000000  \n",
       "mean     2.566333  \n",
       "std      0.733345  \n",
       "min      1.270000  \n",
       "25%      1.820000  \n",
       "50%      2.760000  \n",
       "75%      3.170000  \n",
       "max      4.000000  "
      ]
     },
     "execution_count": 9,
     "metadata": {},
     "output_type": "execute_result"
    }
   ],
   "source": [
    "features = ['x1','x2','x3','x4 ','x5','x6','x7','x8','x9','x10','x11','x12']\n",
    "dfTrain = pd.read_csv('wine.train', header=None, names=['y','x1','x2','x3','x4 ','x5','x6','x7','x8','x9','x10','x11','x12']) \n",
    "dfTrain.describe()"
   ]
  },
  {
   "cell_type": "code",
   "execution_count": 10,
   "metadata": {},
   "outputs": [
    {
     "data": {
      "text/html": [
       "<div>\n",
       "<style scoped>\n",
       "    .dataframe tbody tr th:only-of-type {\n",
       "        vertical-align: middle;\n",
       "    }\n",
       "\n",
       "    .dataframe tbody tr th {\n",
       "        vertical-align: top;\n",
       "    }\n",
       "\n",
       "    .dataframe thead th {\n",
       "        text-align: right;\n",
       "    }\n",
       "</style>\n",
       "<table border=\"1\" class=\"dataframe\">\n",
       "  <thead>\n",
       "    <tr style=\"text-align: right;\">\n",
       "      <th></th>\n",
       "      <th>y</th>\n",
       "      <th>x1</th>\n",
       "      <th>x2</th>\n",
       "      <th>x3</th>\n",
       "      <th>x4</th>\n",
       "      <th>x5</th>\n",
       "      <th>x6</th>\n",
       "      <th>x7</th>\n",
       "      <th>x8</th>\n",
       "      <th>x9</th>\n",
       "      <th>x10</th>\n",
       "      <th>x11</th>\n",
       "      <th>x12</th>\n",
       "    </tr>\n",
       "  </thead>\n",
       "  <tbody>\n",
       "    <tr>\n",
       "      <th>count</th>\n",
       "      <td>120.00000</td>\n",
       "      <td>120.000000</td>\n",
       "      <td>120.000000</td>\n",
       "      <td>120.000000</td>\n",
       "      <td>120.000000</td>\n",
       "      <td>120.000000</td>\n",
       "      <td>120.000000</td>\n",
       "      <td>120.000000</td>\n",
       "      <td>120.000000</td>\n",
       "      <td>120.000000</td>\n",
       "      <td>120.000000</td>\n",
       "      <td>120.000000</td>\n",
       "      <td>120.000000</td>\n",
       "    </tr>\n",
       "    <tr>\n",
       "      <th>mean</th>\n",
       "      <td>2.00000</td>\n",
       "      <td>0.453623</td>\n",
       "      <td>0.298744</td>\n",
       "      <td>0.441393</td>\n",
       "      <td>0.482081</td>\n",
       "      <td>0.287100</td>\n",
       "      <td>0.438391</td>\n",
       "      <td>0.468064</td>\n",
       "      <td>0.431918</td>\n",
       "      <td>0.447700</td>\n",
       "      <td>0.345193</td>\n",
       "      <td>0.515909</td>\n",
       "      <td>0.474847</td>\n",
       "    </tr>\n",
       "    <tr>\n",
       "      <th>std</th>\n",
       "      <td>0.81992</td>\n",
       "      <td>0.243827</td>\n",
       "      <td>0.222327</td>\n",
       "      <td>0.170753</td>\n",
       "      <td>0.189745</td>\n",
       "      <td>0.174341</td>\n",
       "      <td>0.220038</td>\n",
       "      <td>0.293440</td>\n",
       "      <td>0.243880</td>\n",
       "      <td>0.206902</td>\n",
       "      <td>0.201265</td>\n",
       "      <td>0.251400</td>\n",
       "      <td>0.268625</td>\n",
       "    </tr>\n",
       "    <tr>\n",
       "      <th>min</th>\n",
       "      <td>1.00000</td>\n",
       "      <td>0.000000</td>\n",
       "      <td>0.000000</td>\n",
       "      <td>0.000000</td>\n",
       "      <td>0.000000</td>\n",
       "      <td>0.000000</td>\n",
       "      <td>0.000000</td>\n",
       "      <td>0.000000</td>\n",
       "      <td>0.000000</td>\n",
       "      <td>0.000000</td>\n",
       "      <td>0.000000</td>\n",
       "      <td>0.000000</td>\n",
       "      <td>0.000000</td>\n",
       "    </tr>\n",
       "    <tr>\n",
       "      <th>25%</th>\n",
       "      <td>1.00000</td>\n",
       "      <td>0.247671</td>\n",
       "      <td>0.156823</td>\n",
       "      <td>0.348684</td>\n",
       "      <td>0.332370</td>\n",
       "      <td>0.147260</td>\n",
       "      <td>0.248276</td>\n",
       "      <td>0.179412</td>\n",
       "      <td>0.245283</td>\n",
       "      <td>0.292000</td>\n",
       "      <td>0.188567</td>\n",
       "      <td>0.315341</td>\n",
       "      <td>0.201465</td>\n",
       "    </tr>\n",
       "    <tr>\n",
       "      <th>50%</th>\n",
       "      <td>2.00000</td>\n",
       "      <td>0.465839</td>\n",
       "      <td>0.204684</td>\n",
       "      <td>0.434211</td>\n",
       "      <td>0.479769</td>\n",
       "      <td>0.273973</td>\n",
       "      <td>0.420690</td>\n",
       "      <td>0.497059</td>\n",
       "      <td>0.386792</td>\n",
       "      <td>0.454000</td>\n",
       "      <td>0.321672</td>\n",
       "      <td>0.534091</td>\n",
       "      <td>0.545788</td>\n",
       "    </tr>\n",
       "    <tr>\n",
       "      <th>75%</th>\n",
       "      <td>3.00000</td>\n",
       "      <td>0.647516</td>\n",
       "      <td>0.439409</td>\n",
       "      <td>0.565789</td>\n",
       "      <td>0.595376</td>\n",
       "      <td>0.386986</td>\n",
       "      <td>0.607759</td>\n",
       "      <td>0.725735</td>\n",
       "      <td>0.613208</td>\n",
       "      <td>0.584000</td>\n",
       "      <td>0.458404</td>\n",
       "      <td>0.698864</td>\n",
       "      <td>0.695971</td>\n",
       "    </tr>\n",
       "    <tr>\n",
       "      <th>max</th>\n",
       "      <td>3.00000</td>\n",
       "      <td>1.000000</td>\n",
       "      <td>1.000000</td>\n",
       "      <td>1.000000</td>\n",
       "      <td>1.000000</td>\n",
       "      <td>1.000000</td>\n",
       "      <td>1.000000</td>\n",
       "      <td>1.000000</td>\n",
       "      <td>1.000000</td>\n",
       "      <td>1.000000</td>\n",
       "      <td>1.000000</td>\n",
       "      <td>1.000000</td>\n",
       "      <td>1.000000</td>\n",
       "    </tr>\n",
       "  </tbody>\n",
       "</table>\n",
       "</div>"
      ],
      "text/plain": [
       "               y          x1          x2          x3         x4           x5  \\\n",
       "count  120.00000  120.000000  120.000000  120.000000  120.000000  120.000000   \n",
       "mean     2.00000    0.453623    0.298744    0.441393    0.482081    0.287100   \n",
       "std      0.81992    0.243827    0.222327    0.170753    0.189745    0.174341   \n",
       "min      1.00000    0.000000    0.000000    0.000000    0.000000    0.000000   \n",
       "25%      1.00000    0.247671    0.156823    0.348684    0.332370    0.147260   \n",
       "50%      2.00000    0.465839    0.204684    0.434211    0.479769    0.273973   \n",
       "75%      3.00000    0.647516    0.439409    0.565789    0.595376    0.386986   \n",
       "max      3.00000    1.000000    1.000000    1.000000    1.000000    1.000000   \n",
       "\n",
       "               x6          x7          x8          x9         x10         x11  \\\n",
       "count  120.000000  120.000000  120.000000  120.000000  120.000000  120.000000   \n",
       "mean     0.438391    0.468064    0.431918    0.447700    0.345193    0.515909   \n",
       "std      0.220038    0.293440    0.243880    0.206902    0.201265    0.251400   \n",
       "min      0.000000    0.000000    0.000000    0.000000    0.000000    0.000000   \n",
       "25%      0.248276    0.179412    0.245283    0.292000    0.188567    0.315341   \n",
       "50%      0.420690    0.497059    0.386792    0.454000    0.321672    0.534091   \n",
       "75%      0.607759    0.725735    0.613208    0.584000    0.458404    0.698864   \n",
       "max      1.000000    1.000000    1.000000    1.000000    1.000000    1.000000   \n",
       "\n",
       "              x12  \n",
       "count  120.000000  \n",
       "mean     0.474847  \n",
       "std      0.268625  \n",
       "min      0.000000  \n",
       "25%      0.201465  \n",
       "50%      0.545788  \n",
       "75%      0.695971  \n",
       "max      1.000000  "
      ]
     },
     "execution_count": 10,
     "metadata": {},
     "output_type": "execute_result"
    }
   ],
   "source": [
    "# scale values from 0 to min with min max scaling\n",
    "for f in features:\n",
    "    dfTrain[f] = (dfTrain[f]-dfTrain[f].min())/(dfTrain[f].max()-dfTrain[f].min())\n",
    "dfTrain.describe()"
   ]
  },
  {
   "cell_type": "code",
   "execution_count": 11,
   "metadata": {
    "scrolled": true
   },
   "outputs": [
    {
     "name": "stderr",
     "output_type": "stream",
     "text": [
      "/home/amaral/anaconda2/envs/pods/lib/python3.6/site-packages/sklearn/model_selection/_search.py:761: DeprecationWarning: The grid_scores_ attribute was deprecated in version 0.18 in favor of the more elaborate cv_results_ attribute. The grid_scores_ attribute will not be available from 0.20\n",
      "  DeprecationWarning)\n"
     ]
    },
    {
     "data": {
      "text/plain": [
       "[mean: 0.95000, std: 0.04859, params: {'alpha': 0.0001, 'hidden_layer_sizes': (30, 30), 'learning_rate_init': 0.001},\n",
       " mean: 0.95000, std: 0.04082, params: {'alpha': 0.0001, 'hidden_layer_sizes': (30, 30), 'learning_rate_init': 0.0005},\n",
       " mean: 0.96667, std: 0.03118, params: {'alpha': 0.0001, 'hidden_layer_sizes': (30, 30), 'learning_rate_init': 0.003},\n",
       " mean: 0.97500, std: 0.03333, params: {'alpha': 0.0001, 'hidden_layer_sizes': (100, 50, 30), 'learning_rate_init': 0.001},\n",
       " mean: 0.95833, std: 0.02635, params: {'alpha': 0.0001, 'hidden_layer_sizes': (100, 50, 30), 'learning_rate_init': 0.0005},\n",
       " mean: 0.95833, std: 0.04564, params: {'alpha': 0.0001, 'hidden_layer_sizes': (100, 50, 30), 'learning_rate_init': 0.003},\n",
       " mean: 0.96667, std: 0.03118, params: {'alpha': 0.0001, 'hidden_layer_sizes': (50, 50, 50, 50, 50), 'learning_rate_init': 0.001},\n",
       " mean: 0.95000, std: 0.06124, params: {'alpha': 0.0001, 'hidden_layer_sizes': (50, 50, 50, 50, 50), 'learning_rate_init': 0.0005},\n",
       " mean: 0.95000, std: 0.04859, params: {'alpha': 0.0001, 'hidden_layer_sizes': (50, 50, 50, 50, 50), 'learning_rate_init': 0.003},\n",
       " mean: 0.95833, std: 0.06455, params: {'alpha': 0.0001, 'hidden_layer_sizes': (100, 100, 100, 100, 100), 'learning_rate_init': 0.001},\n",
       " mean: 0.95000, std: 0.04082, params: {'alpha': 0.0001, 'hidden_layer_sizes': (100, 100, 100, 100, 100), 'learning_rate_init': 0.0005},\n",
       " mean: 0.95833, std: 0.06455, params: {'alpha': 0.0001, 'hidden_layer_sizes': (100, 100, 100, 100, 100), 'learning_rate_init': 0.003},\n",
       " mean: 0.95833, std: 0.02635, params: {'alpha': 0.0005, 'hidden_layer_sizes': (30, 30), 'learning_rate_init': 0.001},\n",
       " mean: 0.95833, std: 0.02635, params: {'alpha': 0.0005, 'hidden_layer_sizes': (30, 30), 'learning_rate_init': 0.0005},\n",
       " mean: 0.94167, std: 0.04249, params: {'alpha': 0.0005, 'hidden_layer_sizes': (30, 30), 'learning_rate_init': 0.003},\n",
       " mean: 0.95000, std: 0.04082, params: {'alpha': 0.0005, 'hidden_layer_sizes': (100, 50, 30), 'learning_rate_init': 0.001},\n",
       " mean: 0.95000, std: 0.04082, params: {'alpha': 0.0005, 'hidden_layer_sizes': (100, 50, 30), 'learning_rate_init': 0.0005},\n",
       " mean: 0.94167, std: 0.04249, params: {'alpha': 0.0005, 'hidden_layer_sizes': (100, 50, 30), 'learning_rate_init': 0.003},\n",
       " mean: 0.94167, std: 0.05652, params: {'alpha': 0.0005, 'hidden_layer_sizes': (50, 50, 50, 50, 50), 'learning_rate_init': 0.001},\n",
       " mean: 0.96667, std: 0.03118, params: {'alpha': 0.0005, 'hidden_layer_sizes': (50, 50, 50, 50, 50), 'learning_rate_init': 0.0005},\n",
       " mean: 0.97500, std: 0.02041, params: {'alpha': 0.0005, 'hidden_layer_sizes': (50, 50, 50, 50, 50), 'learning_rate_init': 0.003},\n",
       " mean: 0.96667, std: 0.03118, params: {'alpha': 0.0005, 'hidden_layer_sizes': (100, 100, 100, 100, 100), 'learning_rate_init': 0.001},\n",
       " mean: 0.96667, std: 0.03118, params: {'alpha': 0.0005, 'hidden_layer_sizes': (100, 100, 100, 100, 100), 'learning_rate_init': 0.0005},\n",
       " mean: 0.93333, std: 0.06236, params: {'alpha': 0.0005, 'hidden_layer_sizes': (100, 100, 100, 100, 100), 'learning_rate_init': 0.003},\n",
       " mean: 0.94167, std: 0.05652, params: {'alpha': 0.0005, 'hidden_layer_sizes': (30, 30), 'learning_rate_init': 0.001},\n",
       " mean: 0.96667, std: 0.03118, params: {'alpha': 0.0005, 'hidden_layer_sizes': (30, 30), 'learning_rate_init': 0.0005},\n",
       " mean: 0.96667, std: 0.03118, params: {'alpha': 0.0005, 'hidden_layer_sizes': (30, 30), 'learning_rate_init': 0.003},\n",
       " mean: 0.95000, std: 0.04082, params: {'alpha': 0.0005, 'hidden_layer_sizes': (100, 50, 30), 'learning_rate_init': 0.001},\n",
       " mean: 0.95833, std: 0.02635, params: {'alpha': 0.0005, 'hidden_layer_sizes': (100, 50, 30), 'learning_rate_init': 0.0005},\n",
       " mean: 0.95833, std: 0.03727, params: {'alpha': 0.0005, 'hidden_layer_sizes': (100, 50, 30), 'learning_rate_init': 0.003},\n",
       " mean: 0.94167, std: 0.06236, params: {'alpha': 0.0005, 'hidden_layer_sizes': (50, 50, 50, 50, 50), 'learning_rate_init': 0.001},\n",
       " mean: 0.96667, std: 0.04859, params: {'alpha': 0.0005, 'hidden_layer_sizes': (50, 50, 50, 50, 50), 'learning_rate_init': 0.0005},\n",
       " mean: 0.95000, std: 0.06124, params: {'alpha': 0.0005, 'hidden_layer_sizes': (50, 50, 50, 50, 50), 'learning_rate_init': 0.003},\n",
       " mean: 0.95833, std: 0.04564, params: {'alpha': 0.0005, 'hidden_layer_sizes': (100, 100, 100, 100, 100), 'learning_rate_init': 0.001},\n",
       " mean: 0.97500, std: 0.03333, params: {'alpha': 0.0005, 'hidden_layer_sizes': (100, 100, 100, 100, 100), 'learning_rate_init': 0.0005},\n",
       " mean: 0.93333, std: 0.05652, params: {'alpha': 0.0005, 'hidden_layer_sizes': (100, 100, 100, 100, 100), 'learning_rate_init': 0.003},\n",
       " mean: 0.95833, std: 0.02635, params: {'alpha': 0.001, 'hidden_layer_sizes': (30, 30), 'learning_rate_init': 0.001},\n",
       " mean: 0.95833, std: 0.02635, params: {'alpha': 0.001, 'hidden_layer_sizes': (30, 30), 'learning_rate_init': 0.0005},\n",
       " mean: 0.95833, std: 0.02635, params: {'alpha': 0.001, 'hidden_layer_sizes': (30, 30), 'learning_rate_init': 0.003},\n",
       " mean: 0.95000, std: 0.04082, params: {'alpha': 0.001, 'hidden_layer_sizes': (100, 50, 30), 'learning_rate_init': 0.001},\n",
       " mean: 0.95000, std: 0.03118, params: {'alpha': 0.001, 'hidden_layer_sizes': (100, 50, 30), 'learning_rate_init': 0.0005},\n",
       " mean: 0.95000, std: 0.04859, params: {'alpha': 0.001, 'hidden_layer_sizes': (100, 50, 30), 'learning_rate_init': 0.003},\n",
       " mean: 0.95000, std: 0.03118, params: {'alpha': 0.001, 'hidden_layer_sizes': (50, 50, 50, 50, 50), 'learning_rate_init': 0.001},\n",
       " mean: 0.95833, std: 0.06455, params: {'alpha': 0.001, 'hidden_layer_sizes': (50, 50, 50, 50, 50), 'learning_rate_init': 0.0005},\n",
       " mean: 0.95000, std: 0.04082, params: {'alpha': 0.001, 'hidden_layer_sizes': (50, 50, 50, 50, 50), 'learning_rate_init': 0.003},\n",
       " mean: 0.94167, std: 0.04249, params: {'alpha': 0.001, 'hidden_layer_sizes': (100, 100, 100, 100, 100), 'learning_rate_init': 0.001},\n",
       " mean: 0.95000, std: 0.04082, params: {'alpha': 0.001, 'hidden_layer_sizes': (100, 100, 100, 100, 100), 'learning_rate_init': 0.0005},\n",
       " mean: 0.93333, std: 0.07728, params: {'alpha': 0.001, 'hidden_layer_sizes': (100, 100, 100, 100, 100), 'learning_rate_init': 0.003}]"
      ]
     },
     "execution_count": 11,
     "metadata": {},
     "output_type": "execute_result"
    }
   ],
   "source": [
    "mlp = GridSearchCV(MLPClassifier(max_iter=2000), \n",
    "    {'hidden_layer_sizes' : [(30,30), (100,50,30), (50,50,50,50,50),\n",
    "                             (100,100,100,100,100)],\n",
    "     'learning_rate_init' : [0.001, 0.0005, 0.003],\n",
    "     'alpha' : [0.0001, 0.0005, 0.0005, 0.001]},\n",
    "    cv=5)\n",
    "\n",
    "mlp.fit(dfTrain.drop('y', axis=1), dfTrain['y'])\n",
    "mlp.grid_scores_"
   ]
  },
  {
   "cell_type": "code",
   "execution_count": 12,
   "metadata": {
    "scrolled": false
   },
   "outputs": [
    {
     "name": "stderr",
     "output_type": "stream",
     "text": [
      "/home/amaral/anaconda2/envs/pods/lib/python3.6/site-packages/sklearn/model_selection/_search.py:761: DeprecationWarning: The grid_scores_ attribute was deprecated in version 0.18 in favor of the more elaborate cv_results_ attribute. The grid_scores_ attribute will not be available from 0.20\n",
      "  DeprecationWarning)\n"
     ]
    },
    {
     "data": {
      "text/plain": [
       "[mean: 0.91667, std: 0.05893, params: {'n_estimators': 5},\n",
       " mean: 0.92500, std: 0.06667, params: {'n_estimators': 10},\n",
       " mean: 0.96667, std: 0.03118, params: {'n_estimators': 20},\n",
       " mean: 0.95833, std: 0.06455, params: {'n_estimators': 50},\n",
       " mean: 0.96667, std: 0.04859, params: {'n_estimators': 100},\n",
       " mean: 0.96667, std: 0.04859, params: {'n_estimators': 200},\n",
       " mean: 0.96667, std: 0.03118, params: {'n_estimators': 300}]"
      ]
     },
     "execution_count": 12,
     "metadata": {},
     "output_type": "execute_result"
    }
   ],
   "source": [
    "rfc = GridSearchCV(RandomForestClassifier(), \n",
    "    {'n_estimators' : [5,10,20,50,100,200,300]},\n",
    "    cv=5)\n",
    "\n",
    "rfc.fit(dfTrain.drop('y', axis=1), dfTrain['y'])\n",
    "rfc.grid_scores_"
   ]
  },
  {
   "cell_type": "code",
   "execution_count": 13,
   "metadata": {
    "scrolled": true
   },
   "outputs": [
    {
     "name": "stderr",
     "output_type": "stream",
     "text": [
      "/home/amaral/anaconda2/envs/pods/lib/python3.6/site-packages/sklearn/model_selection/_search.py:761: DeprecationWarning: The grid_scores_ attribute was deprecated in version 0.18 in favor of the more elaborate cv_results_ attribute. The grid_scores_ attribute will not be available from 0.20\n",
      "  DeprecationWarning)\n"
     ]
    },
    {
     "data": {
      "text/plain": [
       "[mean: 0.93333, std: 0.04249, params: {'degree': 1, 'kernel': 'linear'},\n",
       " mean: 0.93333, std: 0.05652, params: {'degree': 1, 'kernel': 'poly'},\n",
       " mean: 0.94167, std: 0.05652, params: {'degree': 1, 'kernel': 'rbf'},\n",
       " mean: 0.94167, std: 0.05652, params: {'degree': 1, 'kernel': 'sigmoid'},\n",
       " mean: 0.93333, std: 0.04249, params: {'degree': 2, 'kernel': 'linear'},\n",
       " mean: 0.89167, std: 0.07728, params: {'degree': 2, 'kernel': 'poly'},\n",
       " mean: 0.94167, std: 0.05652, params: {'degree': 2, 'kernel': 'rbf'},\n",
       " mean: 0.94167, std: 0.05652, params: {'degree': 2, 'kernel': 'sigmoid'},\n",
       " mean: 0.93333, std: 0.04249, params: {'degree': 3, 'kernel': 'linear'},\n",
       " mean: 0.78333, std: 0.11304, params: {'degree': 3, 'kernel': 'poly'},\n",
       " mean: 0.94167, std: 0.05652, params: {'degree': 3, 'kernel': 'rbf'},\n",
       " mean: 0.94167, std: 0.05652, params: {'degree': 3, 'kernel': 'sigmoid'},\n",
       " mean: 0.93333, std: 0.04249, params: {'degree': 4, 'kernel': 'linear'},\n",
       " mean: 0.68333, std: 0.14337, params: {'degree': 4, 'kernel': 'poly'},\n",
       " mean: 0.94167, std: 0.05652, params: {'degree': 4, 'kernel': 'rbf'},\n",
       " mean: 0.94167, std: 0.05652, params: {'degree': 4, 'kernel': 'sigmoid'},\n",
       " mean: 0.93333, std: 0.04249, params: {'degree': 5, 'kernel': 'linear'},\n",
       " mean: 0.64167, std: 0.14577, params: {'degree': 5, 'kernel': 'poly'},\n",
       " mean: 0.94167, std: 0.05652, params: {'degree': 5, 'kernel': 'rbf'},\n",
       " mean: 0.94167, std: 0.05652, params: {'degree': 5, 'kernel': 'sigmoid'}]"
      ]
     },
     "execution_count": 13,
     "metadata": {},
     "output_type": "execute_result"
    }
   ],
   "source": [
    "svc = GridSearchCV(SVC(), \n",
    "    {'kernel' : ['linear','poly','rbf','sigmoid'],\n",
    "     'degree' : [1,2,3,4,5]},\n",
    "    cv=5)\n",
    "\n",
    "svc.fit(dfTrain.drop('y', axis=1), dfTrain['y'])\n",
    "svc.grid_scores_"
   ]
  },
  {
   "cell_type": "code",
   "execution_count": 14,
   "metadata": {},
   "outputs": [
    {
     "data": {
      "image/png": "[encoded data removed]",
      "text/plain": [
       "<Figure size 432x288 with 1 Axes>"
      ]
     },
     "metadata": {},
     "output_type": "display_data"
    }
   ],
   "source": [
    "# I like MLP the most here because there is generally lower variance,\n",
    "# and seemingly slightly better average performance.\n",
    "# 'alpha': 0.0005, 'hidden_layer_sizes': (50, 50, 50, 50, 50), 'learning_rate_init': 0.001\n",
    "# reaffirm results of a promising model\n",
    "mlp = MLPClassifier(max_iter=2000, \n",
    "                    alpha=0.0005, \n",
    "                    hidden_layer_sizes=(50,50,50,50,50), \n",
    "                    learning_rate_init=0.001)\n",
    "scores = cross_val_score(mlp, \n",
    "                         dfTrain.drop('y', axis=1), \n",
    "                         dfTrain['y'], \n",
    "                         cv=5)\n",
    "# show results of final model on cv\n",
    "plt.boxplot([scores], labels=['MLP'])\n",
    "plt.title('MLP scores on CV')\n",
    "plt.show()"
   ]
  },
  {
   "cell_type": "code",
   "execution_count": 15,
   "metadata": {
    "collapsed": true
   },
   "outputs": [],
   "source": [
    "# shuffle the train data\n",
    "dfTrain = dfTrain.sample(frac=1).reset_index(drop=True)\n",
    "dfVal = dfTrain.tail(20)\n",
    "dfTrain = dfTrain.head(100)"
   ]
  },
  {
   "cell_type": "code",
   "execution_count": 16,
   "metadata": {},
   "outputs": [
    {
     "name": "stdout",
     "output_type": "stream",
     "text": [
      "0.95\n"
     ]
    }
   ],
   "source": [
    "# fit model and test on small 1/5th\n",
    "from sklearn.metrics import accuracy_score\n",
    "mlp.fit(dfTrain.drop('y', axis=1), dfTrain['y'])\n",
    "print(accuracy_score(dfVal['y'], mlp.predict(dfVal.drop('y', axis=1))))"
   ]
  },
  {
   "cell_type": "code",
   "execution_count": 17,
   "metadata": {},
   "outputs": [
    {
     "data": {
      "text/html": [
       "<div>\n",
       "<style scoped>\n",
       "    .dataframe tbody tr th:only-of-type {\n",
       "        vertical-align: middle;\n",
       "    }\n",
       "\n",
       "    .dataframe tbody tr th {\n",
       "        vertical-align: top;\n",
       "    }\n",
       "\n",
       "    .dataframe thead th {\n",
       "        text-align: right;\n",
       "    }\n",
       "</style>\n",
       "<table border=\"1\" class=\"dataframe\">\n",
       "  <thead>\n",
       "    <tr style=\"text-align: right;\">\n",
       "      <th></th>\n",
       "      <th>y</th>\n",
       "      <th>x1</th>\n",
       "      <th>x2</th>\n",
       "      <th>x3</th>\n",
       "      <th>x4</th>\n",
       "      <th>x5</th>\n",
       "      <th>x6</th>\n",
       "      <th>x7</th>\n",
       "      <th>x8</th>\n",
       "      <th>x9</th>\n",
       "      <th>x10</th>\n",
       "      <th>x11</th>\n",
       "      <th>x12</th>\n",
       "    </tr>\n",
       "  </thead>\n",
       "  <tbody>\n",
       "    <tr>\n",
       "      <th>count</th>\n",
       "      <td>58.0</td>\n",
       "      <td>58.000000</td>\n",
       "      <td>58.000000</td>\n",
       "      <td>58.000000</td>\n",
       "      <td>58.000000</td>\n",
       "      <td>58.000000</td>\n",
       "      <td>58.000000</td>\n",
       "      <td>58.000000</td>\n",
       "      <td>58.000000</td>\n",
       "      <td>58.000000</td>\n",
       "      <td>58.000000</td>\n",
       "      <td>58.000000</td>\n",
       "      <td>58.000000</td>\n",
       "    </tr>\n",
       "    <tr>\n",
       "      <th>mean</th>\n",
       "      <td>0.0</td>\n",
       "      <td>0.544982</td>\n",
       "      <td>0.316490</td>\n",
       "      <td>0.533376</td>\n",
       "      <td>0.453697</td>\n",
       "      <td>0.340892</td>\n",
       "      <td>0.531277</td>\n",
       "      <td>0.368453</td>\n",
       "      <td>0.390537</td>\n",
       "      <td>0.410901</td>\n",
       "      <td>0.326771</td>\n",
       "      <td>0.371398</td>\n",
       "      <td>0.583202</td>\n",
       "    </tr>\n",
       "    <tr>\n",
       "      <th>std</th>\n",
       "      <td>0.0</td>\n",
       "      <td>0.254687</td>\n",
       "      <td>0.239676</td>\n",
       "      <td>0.163041</td>\n",
       "      <td>0.179475</td>\n",
       "      <td>0.185524</td>\n",
       "      <td>0.245798</td>\n",
       "      <td>0.217046</td>\n",
       "      <td>0.266789</td>\n",
       "      <td>0.208510</td>\n",
       "      <td>0.253802</td>\n",
       "      <td>0.212232</td>\n",
       "      <td>0.271861</td>\n",
       "    </tr>\n",
       "    <tr>\n",
       "      <th>min</th>\n",
       "      <td>0.0</td>\n",
       "      <td>0.000000</td>\n",
       "      <td>0.000000</td>\n",
       "      <td>0.000000</td>\n",
       "      <td>0.000000</td>\n",
       "      <td>0.000000</td>\n",
       "      <td>0.000000</td>\n",
       "      <td>0.000000</td>\n",
       "      <td>0.000000</td>\n",
       "      <td>0.000000</td>\n",
       "      <td>0.000000</td>\n",
       "      <td>0.000000</td>\n",
       "      <td>0.000000</td>\n",
       "    </tr>\n",
       "    <tr>\n",
       "      <th>25%</th>\n",
       "      <td>0.0</td>\n",
       "      <td>0.376119</td>\n",
       "      <td>0.160896</td>\n",
       "      <td>0.450535</td>\n",
       "      <td>0.353093</td>\n",
       "      <td>0.195652</td>\n",
       "      <td>0.335744</td>\n",
       "      <td>0.222838</td>\n",
       "      <td>0.209302</td>\n",
       "      <td>0.294304</td>\n",
       "      <td>0.128251</td>\n",
       "      <td>0.209821</td>\n",
       "      <td>0.357884</td>\n",
       "    </tr>\n",
       "    <tr>\n",
       "      <th>50%</th>\n",
       "      <td>0.0</td>\n",
       "      <td>0.531343</td>\n",
       "      <td>0.212831</td>\n",
       "      <td>0.540107</td>\n",
       "      <td>0.432990</td>\n",
       "      <td>0.304348</td>\n",
       "      <td>0.557851</td>\n",
       "      <td>0.388027</td>\n",
       "      <td>0.325581</td>\n",
       "      <td>0.379747</td>\n",
       "      <td>0.259456</td>\n",
       "      <td>0.401786</td>\n",
       "      <td>0.628631</td>\n",
       "    </tr>\n",
       "    <tr>\n",
       "      <th>75%</th>\n",
       "      <td>0.0</td>\n",
       "      <td>0.776119</td>\n",
       "      <td>0.469959</td>\n",
       "      <td>0.633690</td>\n",
       "      <td>0.536082</td>\n",
       "      <td>0.413043</td>\n",
       "      <td>0.726240</td>\n",
       "      <td>0.531042</td>\n",
       "      <td>0.534884</td>\n",
       "      <td>0.507911</td>\n",
       "      <td>0.450355</td>\n",
       "      <td>0.506696</td>\n",
       "      <td>0.788382</td>\n",
       "    </tr>\n",
       "    <tr>\n",
       "      <th>max</th>\n",
       "      <td>0.0</td>\n",
       "      <td>1.000000</td>\n",
       "      <td>1.000000</td>\n",
       "      <td>1.000000</td>\n",
       "      <td>1.000000</td>\n",
       "      <td>1.000000</td>\n",
       "      <td>1.000000</td>\n",
       "      <td>1.000000</td>\n",
       "      <td>1.000000</td>\n",
       "      <td>1.000000</td>\n",
       "      <td>1.000000</td>\n",
       "      <td>1.000000</td>\n",
       "      <td>1.000000</td>\n",
       "    </tr>\n",
       "  </tbody>\n",
       "</table>\n",
       "</div>"
      ],
      "text/plain": [
       "          y         x1         x2         x3        x4          x5         x6  \\\n",
       "count  58.0  58.000000  58.000000  58.000000  58.000000  58.000000  58.000000   \n",
       "mean    0.0   0.544982   0.316490   0.533376   0.453697   0.340892   0.531277   \n",
       "std     0.0   0.254687   0.239676   0.163041   0.179475   0.185524   0.245798   \n",
       "min     0.0   0.000000   0.000000   0.000000   0.000000   0.000000   0.000000   \n",
       "25%     0.0   0.376119   0.160896   0.450535   0.353093   0.195652   0.335744   \n",
       "50%     0.0   0.531343   0.212831   0.540107   0.432990   0.304348   0.557851   \n",
       "75%     0.0   0.776119   0.469959   0.633690   0.536082   0.413043   0.726240   \n",
       "max     0.0   1.000000   1.000000   1.000000   1.000000   1.000000   1.000000   \n",
       "\n",
       "              x7         x8         x9        x10        x11        x12  \n",
       "count  58.000000  58.000000  58.000000  58.000000  58.000000  58.000000  \n",
       "mean    0.368453   0.390537   0.410901   0.326771   0.371398   0.583202  \n",
       "std     0.217046   0.266789   0.208510   0.253802   0.212232   0.271861  \n",
       "min     0.000000   0.000000   0.000000   0.000000   0.000000   0.000000  \n",
       "25%     0.222838   0.209302   0.294304   0.128251   0.209821   0.357884  \n",
       "50%     0.388027   0.325581   0.379747   0.259456   0.401786   0.628631  \n",
       "75%     0.531042   0.534884   0.507911   0.450355   0.506696   0.788382  \n",
       "max     1.000000   1.000000   1.000000   1.000000   1.000000   1.000000  "
      ]
     },
     "execution_count": 17,
     "metadata": {},
     "output_type": "execute_result"
    }
   ],
   "source": [
    "# get test data\n",
    "dfTest = pd.read_csv('wine.test', header=None, names=['y','x1','x2','x3','x4 ','x5','x6','x7','x8','x9','x10','x11','x12']) \n",
    "# scale values from 0 to min with min max scaling\n",
    "for f in features:\n",
    "    dfTest[f] = (dfTest[f]-dfTest[f].min())/(dfTest[f].max()-dfTest[f].min())\n",
    "dfTest.describe()"
   ]
  },
  {
   "cell_type": "code",
   "execution_count": 18,
   "metadata": {
    "collapsed": true
   },
   "outputs": [],
   "source": [
    "# get prediction of test set\n",
    "pred = mlp.predict(dfTest.drop('y', axis=1))"
   ]
  },
  {
   "cell_type": "code",
   "execution_count": 19,
   "metadata": {
    "collapsed": true
   },
   "outputs": [],
   "source": [
    "# save prediction (for assignment evaluation, true labels not given in test data)\n",
    "np.savetxt(\"amaral.csv\", pred, delimiter=\",\")"
   ]
  },
  {
   "cell_type": "code",
   "execution_count": null,
   "metadata": {
    "collapsed": true
   },
   "outputs": [],
   "source": []
  }
 ],
 "metadata": {
  "kernelspec": {
   "display_name": "python (pods)",
   "language": "python",
   "name": "pods"
  },
  "language_info": {
   "codemirror_mode": {
    "name": "ipython",
    "version": 2
   },
   "file_extension": ".py",
   "mimetype": "text/x-python",
   "name": "python",
   "nbconvert_exporter": "python",
   "pygments_lexer": "ipython2",
   "version": "2.7.15"
  }
 },
 "nbformat": 4,
 "nbformat_minor": 2
}
